{
  "cells": [
    {
      "metadata": {
        "colab_type": "text",
        "id": "WvMflodMjQKe"
      },
      "cell_type": "markdown",
      "source": "***\n# <font color=green size=10>CURSO DE ESTATÍSTICA - PARTE 2</font>\n***"
    },
    {
      "metadata": {
        "colab_type": "text",
        "id": "cVgsZ_E3jQKg"
      },
      "cell_type": "markdown",
      "source": "# <font color=green>1 CONHECENDO OS DADOS</font>\n***"
    },
    {
      "metadata": {
        "colab_type": "text",
        "id": "TDjqYYNojQKh"
      },
      "cell_type": "markdown",
      "source": "## <font color=green>1.1 Dataset do projeto</font>\n***"
    },
    {
      "metadata": {
        "colab_type": "text",
        "id": "iN1gIbaKjQKh"
      },
      "cell_type": "markdown",
      "source": "### Pesquisa Nacional por Amostra de Domicílios - 2015\n\nA **Pesquisa Nacional por Amostra de Domicílios - PNAD** investiga anualmente, de forma permanente, características gerais da população, de educação, trabalho, rendimento e habitação e outras, com periodicidade variável, de acordo com as necessidades de informação para o país, como as características sobre migração, fecundidade, nupcialidade, saúde, segurança alimentar, entre outros temas. O levantamento dessas estatísticas constitui, ao longo dos 49 anos de realização da pesquisa, um importante instrumento para formulação, validação e avaliação de políticas orientadas para o desenvolvimento socioeconômico e a melhoria das condições de vida no Brasil."
    },
    {
      "metadata": {
        "colab_type": "text",
        "id": "U6V7br1RjQKi"
      },
      "cell_type": "markdown",
      "source": "### Fonte dos Dados\n\nhttps://ww2.ibge.gov.br/home/estatistica/populacao/trabalhoerendimento/pnad2015/microdados.shtm"
    },
    {
      "metadata": {
        "colab_type": "text",
        "id": "r0Fe_qnzjQKj"
      },
      "cell_type": "markdown",
      "source": "### Variáveis utilizadas\n\n> ### Renda\n> ***\n\nRendimento mensal do trabalho principal para pessoas de 10 anos ou mais de idade.\n\n> ### Idade\n> ***\n\nIdade do morador na data de referência em anos.\n\n> ### Altura (elaboração própria)\n> ***\n\nAltura do morador em metros.\n\n> ### UF\n> ***\n\n|Código|Descrição|\n|---|---|\n|11|Rondônia|\n|12|Acre|\n|13|Amazonas|\n|14|Roraima|\n|15|Pará|\n|16|Amapá|\n|17|Tocantins|\n|21|Maranhão|\n|22|Piauí|\n|23|Ceará|\n|24|Rio Grande do Norte|\n|25|Paraíba|\n|26|Pernambuco|\n|27|Alagoas|\n|28|Sergipe|\n|29|Bahia|\n|31|Minas Gerais|\n|32|Espírito Santo|\n|33|Rio de Janeiro|\n|35|São Paulo|\n|41|Paraná|\n|42|Santa Catarina|\n|43|Rio Grande do Sul|\n|50|Mato Grosso do Sul|\n|51|Mato Grosso|\n|52|Goiás|\n|53|Distrito Federal|\n\n> ### Sexo\t\n> ***\n\n|Código|Descrição|\n|---|---|\n|0|Masculino|\n|1|Feminino|\n\n> ### Anos de Estudo\n> ***\n\n|Código|Descrição|\n|---|---|\n|1|Sem instrução e menos de 1 ano|\n|2|1 ano|\n|3|2 anos|\n|4|3 anos|\n|5|4 anos|\n|6|5 anos|\n|7|6 anos|\n|8|7 anos|\n|9|8 anos|\n|10|9 anos|\n|11|10 anos|\n|12|11 anos|\n|13|12 anos|\n|14|13 anos|\n|15|14 anos|\n|16|15 anos ou mais|\n|17|Não determinados| \n||Não aplicável|\n\n> ### Cor\n> ***\n\n|Código|Descrição|\n|---|---|\n|0|Indígena|\n|2|Branca|\n|4|Preta|\n|6|Amarela|\n|8|Parda|\n|9|Sem declaração|"
    },
    {
      "metadata": {
        "colab_type": "text",
        "id": "OK1IQH5cX7Gb"
      },
      "cell_type": "markdown",
      "source": "#### <font color='red'>Observação</font>\n***\n> Os seguintes tratamentos foram realizados nos dados originais:\n> 1. Foram eliminados os registros onde a **Renda** era inválida (999 999 999 999);\n> 2. Foram eliminados os registros onde a **Renda** era missing;\n> 3. Foram considerados somente os registros das **Pessoas de Referência** de cada domicílio (responsável pelo domicílio)."
    },
    {
      "metadata": {},
      "cell_type": "markdown",
      "source": "### Configurações"
    },
    {
      "metadata": {
        "trusted": true
      },
      "cell_type": "code",
      "source": "library(ggplot2)",
      "execution_count": 59,
      "outputs": []
    },
    {
      "metadata": {
        "trusted": true
      },
      "cell_type": "code",
      "source": "options(repr.plot.width = 7, repr.plot.height = 4)",
      "execution_count": 60,
      "outputs": []
    },
    {
      "metadata": {
        "colab_type": "text",
        "id": "8Rw70V6ojQKk"
      },
      "cell_type": "markdown",
      "source": "### Importando dataset do projeto"
    },
    {
      "metadata": {
        "colab": {},
        "colab_type": "code",
        "id": "ufRZ7TLwjQKo",
        "trusted": true
      },
      "cell_type": "code",
      "source": "dados <- read.csv(\"dados.csv\")",
      "execution_count": 61,
      "outputs": []
    },
    {
      "metadata": {
        "colab": {
          "base_uri": "https://localhost:8080/",
          "height": 204
        },
        "colab_type": "code",
        "id": "GsC_WhLFjQKq",
        "outputId": "36b6565f-bb67-47b7-ea64-8d2695c60e6b",
        "scrolled": true,
        "trusted": true
      },
      "cell_type": "code",
      "source": "head(dados, 5)",
      "execution_count": 62,
      "outputs": [
        {
          "output_type": "display_data",
          "data": {
            "text/plain": "  UF Sexo Idade Cor Anos.de.Estudo Renda Altura  \n1 11 0    23    8   12              800  1.603808\n2 11 1    23    2   12             1150  1.739790\n3 11 1    35    8   15              880  1.760444\n4 11 0    46    2    6             3500  1.783158\n5 11 1    47    8    9              150  1.690631",
            "text/latex": "A data.frame: 5 x 7\n\\begin{tabular}{r|lllllll}\n UF & Sexo & Idade & Cor & Anos.de.Estudo & Renda & Altura\\\\\n <int> & <int> & <int> & <int> & <int> & <int> & <dbl>\\\\\n\\hline\n\t 11 & 0 & 23 & 8 & 12 &  800 & 1.603808\\\\\n\t 11 & 1 & 23 & 2 & 12 & 1150 & 1.739790\\\\\n\t 11 & 1 & 35 & 8 & 15 &  880 & 1.760444\\\\\n\t 11 & 0 & 46 & 2 &  6 & 3500 & 1.783158\\\\\n\t 11 & 1 & 47 & 8 &  9 &  150 & 1.690631\\\\\n\\end{tabular}\n",
            "text/markdown": "\nA data.frame: 5 x 7\n\n| UF &lt;int&gt; | Sexo &lt;int&gt; | Idade &lt;int&gt; | Cor &lt;int&gt; | Anos.de.Estudo &lt;int&gt; | Renda &lt;int&gt; | Altura &lt;dbl&gt; |\n|---|---|---|---|---|---|---|\n| 11 | 0 | 23 | 8 | 12 |  800 | 1.603808 |\n| 11 | 1 | 23 | 2 | 12 | 1150 | 1.739790 |\n| 11 | 1 | 35 | 8 | 15 |  880 | 1.760444 |\n| 11 | 0 | 46 | 2 |  6 | 3500 | 1.783158 |\n| 11 | 1 | 47 | 8 |  9 |  150 | 1.690631 |\n\n",
            "text/html": "<table>\n<caption>A data.frame: 5 x 7</caption>\n<thead>\n\t<tr><th scope=col>UF</th><th scope=col>Sexo</th><th scope=col>Idade</th><th scope=col>Cor</th><th scope=col>Anos.de.Estudo</th><th scope=col>Renda</th><th scope=col>Altura</th></tr>\n\t<tr><th scope=col>&lt;int&gt;</th><th scope=col>&lt;int&gt;</th><th scope=col>&lt;int&gt;</th><th scope=col>&lt;int&gt;</th><th scope=col>&lt;int&gt;</th><th scope=col>&lt;int&gt;</th><th scope=col>&lt;dbl&gt;</th></tr>\n</thead>\n<tbody>\n\t<tr><td>11</td><td>0</td><td>23</td><td>8</td><td>12</td><td> 800</td><td>1.603808</td></tr>\n\t<tr><td>11</td><td>1</td><td>23</td><td>2</td><td>12</td><td>1150</td><td>1.739790</td></tr>\n\t<tr><td>11</td><td>1</td><td>35</td><td>8</td><td>15</td><td> 880</td><td>1.760444</td></tr>\n\t<tr><td>11</td><td>0</td><td>46</td><td>2</td><td> 6</td><td>3500</td><td>1.783158</td></tr>\n\t<tr><td>11</td><td>1</td><td>47</td><td>8</td><td> 9</td><td> 150</td><td>1.690631</td></tr>\n</tbody>\n</table>\n"
          },
          "metadata": {}
        }
      ]
    },
    {
      "metadata": {
        "colab_type": "text",
        "id": "-z3bLQIUG3Hv"
      },
      "cell_type": "markdown",
      "source": "---"
    },
    {
      "metadata": {
        "colab_type": "text",
        "id": "tL9xVLwTX07g"
      },
      "cell_type": "markdown",
      "source": "# <font color=green>2 DISTRIBUIÇÕES DE PROBABILIDADE</font>\n***"
    },
    {
      "metadata": {
        "colab_type": "text",
        "id": "3nlvC-5qG3Bj"
      },
      "cell_type": "markdown",
      "source": "## <font color=red>Problema</font>\n***"
    },
    {
      "metadata": {
        "colab_type": "text",
        "id": "8CclIz9oG3Bk"
      },
      "cell_type": "markdown",
      "source": "Em um concurso para preencher uma vaga de cientista de dados temos um total de **10 questões** de múltipla escolha com **3 alternativas possíveis** em cada questão. **Cada questão tem o mesmo valor.** Suponha que um candidato resolva se aventurar sem ter estudado absolutamente nada. Ele resolve fazer a prova de olhos vendados e chutar todas as resposta. Assumindo que a prova **vale 10 pontos e a nota de corte seja 5**, obtenha a probabilidade deste candidato **acertar 5 questões** e também a probabilidade deste candidato **passar para a próxima etapa do processo seletivo**."
    },
    {
      "metadata": {
        "colab_type": "text",
        "id": "KJxd2KFSYLML"
      },
      "cell_type": "markdown",
      "source": "## <font color=green>2.1 Distribuição Binomial</font>\n***"
    },
    {
      "metadata": {
        "colab_type": "text",
        "id": "mcbl3KbnG3Bq"
      },
      "cell_type": "markdown",
      "source": "Um evento **binomial** é caracterizado pela possibilidade de ocorrência de apenas duas categorias. Estas categorias somadas representam todo o espaço amostral, sendo também mutuamente excludentes, ou seja, a ocorrência de uma implica na não ocorrência da outra.\n\nEm análises estatísticas o uso mais comum da distribuição binomial é na solução de problemas que envolvem situações de **sucesso** e **fracasso**."
    },
    {
      "metadata": {
        "colab_type": "text",
        "id": "iLoYAuJ9G3Bs"
      },
      "cell_type": "markdown",
      "source": "# $$P(k)=\\binom{n}{k} p^k q^{n-k}$$\n\nOnde:\n\n$p$ = probabilidade de sucesso\n\n$q = (1 - p)$ = probabilidade de fracasso\n\n$n$ = número de eventos estudados\n\n$k$ = número de eventos desejados que tenham sucesso"
    },
    {
      "metadata": {
        "colab_type": "text",
        "id": "PxEgWbFdG3Bt"
      },
      "cell_type": "markdown",
      "source": "### Experimento Binomial"
    },
    {
      "metadata": {
        "colab_type": "text",
        "id": "eqQK3Ny-G3Bv"
      },
      "cell_type": "markdown",
      "source": "1. Realização de $n$ ensaios idênticos.\n\n2. Os ensaios são independentes.\n\n3. Somente dois resultados são possíveis, exemplo: Verdadeiro ou falso; Cara ou coroa; Sucesso ou fracasso.\n\n4. A probabilidade de sucesso é representada por $p$ e a de fracasso por $1-p=q$. Estas probabilidades não se modificam de ensaio para ensaio."
    },
    {
      "metadata": {
        "colab_type": "text",
        "id": "mT77udQ0G3Bx"
      },
      "cell_type": "markdown",
      "source": "### Média da distribuição binomial"
    },
    {
      "metadata": {
        "colab_type": "text",
        "id": "EGiuemgqG3By"
      },
      "cell_type": "markdown",
      "source": "O valor esperado ou a média da distribuição binomial é igual ao número de experimentos realizados multiplicado pela chance de ocorrência do evento.\n\n# $$\\mu = n \\times p$$"
    },
    {
      "metadata": {
        "colab_type": "text",
        "id": "1fDLi96OG3Bz"
      },
      "cell_type": "markdown",
      "source": "### Desvio padrão da distribuição binomial"
    },
    {
      "metadata": {
        "colab_type": "text",
        "id": "EZojizotG3B1"
      },
      "cell_type": "markdown",
      "source": "O desvio padrão é o produto entre o número de experimentos, a probabilidade de sucesso e a probabilidade de fracasso.\n\n# $$\\sigma = \\sqrt{n \\times p \\times q}$$"
    },
    {
      "metadata": {
        "colab_type": "text",
        "id": "MxxuJNSwG3B7"
      },
      "cell_type": "markdown",
      "source": "### Combinações\n\nNúmero de combinações de $n$ objetos, tomados $k$ a cada vez, é:\n\n# $$C_{k}^{n} = \\binom{n}{k} = \\frac{n!}{k!(n - k)!}$$\n\nOnde\n\n## $$n! = n\\times(n-1)\\times(n-2)\\times...\\times(2)\\times(1)$$\n## $$k! = k\\times(k-1)\\times(k-2)\\times...\\times(2)\\times(1)$$\n\nPor definição\n\n## $$0! = 1$$\n\n#### <font color=red>Documentações:\n\n- [**choose**](https://www.rdocumentation.org/packages/base/versions/3.6.1/topics/Special)"
    },
    {
      "metadata": {
        "colab_type": "text",
        "id": "Udz87Pq3G3B8"
      },
      "cell_type": "markdown",
      "source": "## <font color='blue'>Exemplo: Mega Sena</font>"
    },
    {
      "metadata": {
        "colab_type": "text",
        "id": "h1Mo9AxyG3B8"
      },
      "cell_type": "markdown",
      "source": "Em um volante de loteria da Mega Sena temos um total de **60 números** para escolher onde a aposta mínima é de **seis números**. Você que é curiosa(o) resolve calcular a probabilidade de se acertar na Mega Sena com apenas **um jogo**. Para isso precisamos saber quantas **combinações de seis números podem ser formadas com os 60 números disponíveis**.\n\n### $$C_{6}^{60} = \\binom{60}{6} = \\frac{60!}{6!(60 - 6)!}$$"
    },
    {
      "metadata": {
        "trusted": true
      },
      "cell_type": "code",
      "source": "combinacoes <- choose(60, 6)\ncombinacoes",
      "execution_count": 63,
      "outputs": [
        {
          "output_type": "display_data",
          "data": {
            "text/plain": "[1] 50063860",
            "text/latex": "50063860",
            "text/markdown": "50063860",
            "text/html": "50063860"
          },
          "metadata": {}
        }
      ]
    },
    {
      "metadata": {
        "colab": {
          "base_uri": "https://localhost:8080/",
          "height": 34
        },
        "colab_type": "code",
        "id": "LpioeTSXG3CB",
        "outputId": "d1e0ab82-be84-423c-e206-a9f8e1437df4",
        "trusted": true
      },
      "cell_type": "code",
      "source": "probabilidade <- 1 / combinacoes\nprobabilidade",
      "execution_count": 64,
      "outputs": [
        {
          "output_type": "display_data",
          "data": {
            "text/plain": "[1] 1.997449e-08",
            "text/latex": "1.99744885831816e-08",
            "text/markdown": "1.99744885831816e-08",
            "text/html": "1.99744885831816e-08"
          },
          "metadata": {}
        }
      ]
    },
    {
      "metadata": {
        "colab_type": "text",
        "id": "t1rA1yJpG3CF"
      },
      "cell_type": "markdown",
      "source": "## <font color='blue'>Exemplo: Concurso para cientista de dados</font>"
    },
    {
      "metadata": {
        "colab_type": "text",
        "id": "K0DPDD37G3CG"
      },
      "cell_type": "markdown",
      "source": "Em um concurso para preencher uma vaga de cientista de dados temos um total de **10 questões** de múltipla escolha com **3 alternativas possíveis** em cada questão. **Cada questão tem o mesmo valor.** Suponha que um candidato resolva se aventurar sem ter estudado absolutamente nada. Ele resolve fazer a prova de olhos vendados e chutar todas as resposta. Assumindo que a prova **vale 10 pontos e a nota de corte seja 5**, obtenha a probabilidade deste candidato **acertar 5 questões** e também a probabilidade deste candidato **passar para a próxima etapa do processo seletivo**."
    },
    {
      "metadata": {
        "colab_type": "text",
        "id": "sf-NMPfxG3CH"
      },
      "cell_type": "markdown",
      "source": "### Qual o número de ensaios ($n$)?"
    },
    {
      "metadata": {
        "colab": {
          "base_uri": "https://localhost:8080/",
          "height": 34
        },
        "colab_type": "code",
        "id": "WmnjMTnYG3CH",
        "outputId": "859f37e5-992a-4ccf-fbfb-4e2cf52c4373",
        "trusted": true
      },
      "cell_type": "code",
      "source": "n <- 10\nn",
      "execution_count": 65,
      "outputs": [
        {
          "output_type": "display_data",
          "data": {
            "text/plain": "[1] 10",
            "text/latex": "10",
            "text/markdown": "10",
            "text/html": "10"
          },
          "metadata": {}
        }
      ]
    },
    {
      "metadata": {
        "colab_type": "text",
        "id": "1USf9Ro8G3CK"
      },
      "cell_type": "markdown",
      "source": "### Os ensaios são independentes?"
    },
    {
      "metadata": {
        "colab_type": "text",
        "id": "82xf2XIkG3CM"
      },
      "cell_type": "markdown",
      "source": "Sim. A opção escolhida em uma questão não influencia em nada a opção escolhida em outra questão."
    },
    {
      "metadata": {
        "colab_type": "text",
        "id": "7jN0H5e7G3CN"
      },
      "cell_type": "markdown",
      "source": "### Somente dois resultados são possíveis em cada ensaio?"
    },
    {
      "metadata": {
        "colab_type": "text",
        "id": "gGxcY7K8G3CO"
      },
      "cell_type": "markdown",
      "source": "Sim. O candidato tem duas possibilidades, ACERTA ou ERRAR uma questão. "
    },
    {
      "metadata": {
        "colab_type": "text",
        "id": "MZw2LDQjG3CR"
      },
      "cell_type": "markdown",
      "source": "### Qual a probabilidade de sucesso ($p$)?"
    },
    {
      "metadata": {
        "colab": {
          "base_uri": "https://localhost:8080/",
          "height": 34
        },
        "colab_type": "code",
        "id": "AazGDtt0G3CS",
        "outputId": "ccb9e561-0413-43c8-c462-ebea4b6c1097",
        "trusted": true
      },
      "cell_type": "code",
      "source": "numero_de_alternativas_por_questao <- 3\np <- 1 / numero_de_alternativas_por_questao\np",
      "execution_count": 66,
      "outputs": [
        {
          "output_type": "display_data",
          "data": {
            "text/plain": "[1] 0.3333333",
            "text/latex": "0.333333333333333",
            "text/markdown": "0.333333333333333",
            "text/html": "0.333333333333333"
          },
          "metadata": {}
        }
      ]
    },
    {
      "metadata": {
        "colab_type": "text",
        "id": "KPCw41OlG3CX"
      },
      "cell_type": "markdown",
      "source": "### Qual a probabilidade de fracasso ($q$)?"
    },
    {
      "metadata": {
        "colab": {
          "base_uri": "https://localhost:8080/",
          "height": 34
        },
        "colab_type": "code",
        "id": "FRhmjCnpG3CZ",
        "outputId": "f521f041-ecf4-4c4c-b696-da7b949d657a",
        "trusted": true
      },
      "cell_type": "code",
      "source": "q <- 1 - p\nq",
      "execution_count": 67,
      "outputs": [
        {
          "output_type": "display_data",
          "data": {
            "text/plain": "[1] 0.6666667",
            "text/latex": "0.666666666666667",
            "text/markdown": "0.666666666666667",
            "text/html": "0.666666666666667"
          },
          "metadata": {}
        }
      ]
    },
    {
      "metadata": {
        "colab_type": "text",
        "id": "W2htpmzaG3Ce"
      },
      "cell_type": "markdown",
      "source": "### Qual o total de eventos que se deseja obter sucesso ($k$)?"
    },
    {
      "metadata": {
        "colab": {
          "base_uri": "https://localhost:8080/",
          "height": 34
        },
        "colab_type": "code",
        "id": "MmHpiIIuG3Cj",
        "outputId": "6975cb4f-5cd3-4234-f7b0-b5d01ceb0430",
        "trusted": true
      },
      "cell_type": "code",
      "source": "k <- 5\nk",
      "execution_count": 68,
      "outputs": [
        {
          "output_type": "display_data",
          "data": {
            "text/plain": "[1] 5",
            "text/latex": "5",
            "text/markdown": "5",
            "text/html": "5"
          },
          "metadata": {}
        }
      ]
    },
    {
      "metadata": {
        "colab_type": "text",
        "id": "r8TZ6DSuG3Cm"
      },
      "cell_type": "markdown",
      "source": "### Solução 1"
    },
    {
      "metadata": {
        "trusted": true
      },
      "cell_type": "code",
      "source": "probabilidade <- choose(n, k) * (p ** k) * (q ** (n - k))\nprobabilidade",
      "execution_count": 69,
      "outputs": [
        {
          "output_type": "display_data",
          "data": {
            "text/plain": "[1] 0.1365645",
            "text/latex": "0.136564548087182",
            "text/markdown": "0.136564548087182",
            "text/html": "0.136564548087182"
          },
          "metadata": {}
        }
      ]
    },
    {
      "metadata": {
        "colab_type": "text",
        "id": "hvj2sYaSG3Ct"
      },
      "cell_type": "markdown",
      "source": "### Solução 2\n\n#### <font color=red>Documentações:\n\n- [**dbinom**](https://www.rdocumentation.org/packages/stats/versions/3.6.1/topics/Binomial)"
    },
    {
      "metadata": {
        "trusted": true
      },
      "cell_type": "code",
      "source": "dbinom(x = k, size = n, prob = p)",
      "execution_count": 70,
      "outputs": [
        {
          "output_type": "display_data",
          "data": {
            "text/plain": "[1] 0.1365645",
            "text/latex": "0.136564548087182",
            "text/markdown": "0.136564548087182",
            "text/html": "0.136564548087182"
          },
          "metadata": {}
        }
      ]
    },
    {
      "metadata": {},
      "cell_type": "markdown",
      "source": "### Obter a probabilidade do candidato passar"
    },
    {
      "metadata": {},
      "cell_type": "markdown",
      "source": "### $$P(acertar > 4) = P(5) + P(6) + P(7) + P(8) + P(9) + P(10)$$"
    },
    {
      "metadata": {
        "trusted": true
      },
      "cell_type": "code",
      "source": "dbinom(x = 5, size = n, prob = p) + \ndbinom(x = 6, size = n, prob = p) + \ndbinom(x = 7, size = n, prob = p) + \ndbinom(x = 8, size = n, prob = p) + \ndbinom(x = 9, size = n, prob = p) + \ndbinom(x = 10, size = n, prob = p)",
      "execution_count": 71,
      "outputs": [
        {
          "output_type": "display_data",
          "data": {
            "text/plain": "[1] 0.2131281",
            "text/latex": "0.213128080069095",
            "text/markdown": "0.213128080069095",
            "text/html": "0.213128080069095"
          },
          "metadata": {}
        }
      ]
    },
    {
      "metadata": {
        "trusted": true
      },
      "cell_type": "code",
      "source": "sum(dbinom(x = 5:10, size = n, prob = p))",
      "execution_count": 72,
      "outputs": [
        {
          "output_type": "display_data",
          "data": {
            "text/plain": "[1] 0.2131281",
            "text/latex": "0.213128080069095",
            "text/markdown": "0.213128080069095",
            "text/html": "0.213128080069095"
          },
          "metadata": {}
        }
      ]
    },
    {
      "metadata": {
        "trusted": true
      },
      "cell_type": "code",
      "source": "pbinom(q = 4, size = n, prob = p, lower.tail = F)",
      "execution_count": 73,
      "outputs": [
        {
          "output_type": "display_data",
          "data": {
            "text/plain": "[1] 0.2131281",
            "text/latex": "0.213128080069095",
            "text/markdown": "0.213128080069095",
            "text/html": "0.213128080069095"
          },
          "metadata": {}
        }
      ]
    },
    {
      "metadata": {
        "colab_type": "text",
        "id": "7hAZ4XkMG3Cx"
      },
      "cell_type": "markdown",
      "source": "## <font color='blue'>Exemplo: Gincana</font>"
    },
    {
      "metadata": {
        "colab_type": "text",
        "id": "l42alRhOG3Cy"
      },
      "cell_type": "markdown",
      "source": "Uma cidade do interior realiza todos os anos uma gincana para arrecadar fundos para o hospital da cidade. Na última gincana se sabe que a **proporção de participantes do sexo feminino foi de 60%**. **O total de equipes, com 12 integrantes, inscritas na gincana deste ano é de 30**. Com as informações acima responda: Quantas equipes deverão ser formadas por **8 mulheres**?"
    },
    {
      "metadata": {
        "colab_type": "text",
        "id": "dqBGf6d7G3C0"
      },
      "cell_type": "markdown",
      "source": "### Solução"
    },
    {
      "metadata": {
        "colab": {
          "base_uri": "https://localhost:8080/",
          "height": 34
        },
        "colab_type": "code",
        "id": "Xw9b6ch3G3C1",
        "outputId": "b4bb8b11-5113-4cc9-bac1-59e9acaf67e6",
        "trusted": true
      },
      "cell_type": "code",
      "source": "p <- 0.6\np",
      "execution_count": 74,
      "outputs": [
        {
          "output_type": "display_data",
          "data": {
            "text/plain": "[1] 0.6",
            "text/latex": "0.6",
            "text/markdown": "0.6",
            "text/html": "0.6"
          },
          "metadata": {}
        }
      ]
    },
    {
      "metadata": {
        "colab": {
          "base_uri": "https://localhost:8080/",
          "height": 34
        },
        "colab_type": "code",
        "id": "R3-RaxP5G3C3",
        "outputId": "180b09ba-666e-47c9-b476-224c71fdd5c0",
        "trusted": true
      },
      "cell_type": "code",
      "source": "n <- 12\nn",
      "execution_count": 75,
      "outputs": [
        {
          "output_type": "display_data",
          "data": {
            "text/plain": "[1] 12",
            "text/latex": "12",
            "text/markdown": "12",
            "text/html": "12"
          },
          "metadata": {}
        }
      ]
    },
    {
      "metadata": {
        "colab": {
          "base_uri": "https://localhost:8080/",
          "height": 34
        },
        "colab_type": "code",
        "id": "otBHHyD0G3C6",
        "outputId": "c3bdd1ab-763a-43db-ec2e-fb890aa78e3f",
        "trusted": true
      },
      "cell_type": "code",
      "source": "k <- 8\nk",
      "execution_count": 76,
      "outputs": [
        {
          "output_type": "display_data",
          "data": {
            "text/plain": "[1] 8",
            "text/latex": "8",
            "text/markdown": "8",
            "text/html": "8"
          },
          "metadata": {}
        }
      ]
    },
    {
      "metadata": {
        "trusted": true
      },
      "cell_type": "code",
      "source": "probabilidade <- dbinom(x = k, size = n, prob = p)\nprobabilidade",
      "execution_count": 77,
      "outputs": [
        {
          "output_type": "display_data",
          "data": {
            "text/plain": "[1] 0.2128409",
            "text/latex": "0.21284093952",
            "text/markdown": "0.21284093952",
            "text/html": "0.21284093952"
          },
          "metadata": {}
        }
      ]
    },
    {
      "metadata": {
        "colab": {
          "base_uri": "https://localhost:8080/",
          "height": 34
        },
        "colab_type": "code",
        "id": "Tg53uGL4G3DA",
        "outputId": "cf68634d-68fd-41c5-a9a1-98c5ead8b548",
        "trusted": true
      },
      "cell_type": "code",
      "source": "equipes <- 30 * probabilidade\nequipes",
      "execution_count": 78,
      "outputs": [
        {
          "output_type": "display_data",
          "data": {
            "text/plain": "[1] 6.385228",
            "text/latex": "6.3852281856",
            "text/markdown": "6.3852281856",
            "text/html": "6.3852281856"
          },
          "metadata": {}
        }
      ]
    },
    {
      "metadata": {
        "colab_type": "text",
        "id": "49TiCQRvG3DC"
      },
      "cell_type": "markdown",
      "source": "---"
    },
    {
      "metadata": {
        "colab_type": "text",
        "id": "X6bYonAZG3DE"
      },
      "cell_type": "markdown",
      "source": "## <font color=red>Problema</font>\n***"
    },
    {
      "metadata": {
        "colab_type": "text",
        "id": "Ccx-Bc9oG3DH"
      },
      "cell_type": "markdown",
      "source": "Um restaurante recebe em média **20 pedidos por hora**. Qual a chance de que, em determinada hora escolhida ao acaso, o restaurante receba **15 pedidos**?"
    },
    {
      "metadata": {
        "colab_type": "text",
        "id": "k-uV7bgsmand"
      },
      "cell_type": "markdown",
      "source": "## <font color=green>2.2 Distribuição Poisson</font>\n***"
    },
    {
      "metadata": {
        "colab_type": "text",
        "id": "H0jPtJICG3DM"
      },
      "cell_type": "markdown",
      "source": "É empregada para descrever o número de ocorrências em um intervalo de tempo ou espaço específico. Os eventos são caracterizados pela possibilidade de contagem dos sucessos, mas a não possibilidade de contagem dos fracassos.\n\nComo exemplos de processos onde podemos aplicar a distribuição de Poisson temos a determinação do número de clientes que entram em uma loja em determinada hora, o número de carros que chegam em um drive-thru de uma lanchonete na hora do almoço, a determinação do número de acidentes registrados em um trecho de estrada etc."
    },
    {
      "metadata": {
        "colab_type": "text",
        "id": "O_XqwANJG3DN"
      },
      "cell_type": "markdown",
      "source": "# $$P(k) = \\frac{e^{-\\mu}(\\mu)^k}{k!}$$\n\nOnde:\n\n$e$ = constante cujo valor aproximado é 2,718281828459045\n\n$\\mu$ = representa o número médio de ocorrências em um determinado intervalo de tempo ou espaço\n\n$k$ = número de sucessos no intervalo desejado"
    },
    {
      "metadata": {
        "colab_type": "text",
        "id": "FqquU8wOG3DO"
      },
      "cell_type": "markdown",
      "source": "### Experimento Poisson"
    },
    {
      "metadata": {
        "colab_type": "text",
        "id": "ir2odEW3G3DO"
      },
      "cell_type": "markdown",
      "source": "1. A probabilidade de uma ocorrência é a mesma em todo o intervalo observado.\n\n2. O número de ocorrências em determinado intervalo é independente do número de ocorrências em outros intervalos.\n\n3. A probabilidade de uma ocorrência é a mesma em intervalos de igual comprimento."
    },
    {
      "metadata": {
        "colab_type": "text",
        "id": "2INlWMa0G3DP"
      },
      "cell_type": "markdown",
      "source": "### Média da distribuição Poisson"
    },
    {
      "metadata": {
        "colab_type": "text",
        "id": "xywTsniCG3DP"
      },
      "cell_type": "markdown",
      "source": "# $$\\mu$$"
    },
    {
      "metadata": {
        "colab_type": "text",
        "id": "7-Lh-LpfG3DQ"
      },
      "cell_type": "markdown",
      "source": "### Desvio padrão da distribuição Poisson"
    },
    {
      "metadata": {
        "colab_type": "text",
        "id": "61uStWUsG3DQ"
      },
      "cell_type": "markdown",
      "source": "# $$\\sigma = \\sqrt{\\mu}$$"
    },
    {
      "metadata": {
        "colab_type": "text",
        "id": "vniBmzIMG3DR"
      },
      "cell_type": "markdown",
      "source": "#### <font color=red>Documentações:\n\n- [**exp**](https://www.rdocumentation.org/packages/base/versions/3.6.1/topics/log)\n- [**factorial**](https://www.rdocumentation.org/packages/base/versions/3.6.1/topics/Special)"
    },
    {
      "metadata": {
        "trusted": true
      },
      "cell_type": "code",
      "source": "exp(1)",
      "execution_count": 79,
      "outputs": [
        {
          "output_type": "display_data",
          "data": {
            "text/plain": "[1] 2.718282",
            "text/latex": "2.71828182845905",
            "text/markdown": "2.71828182845905",
            "text/html": "2.71828182845905"
          },
          "metadata": {}
        }
      ]
    },
    {
      "metadata": {
        "colab_type": "text",
        "id": "RKQWuVgMG3DW"
      },
      "cell_type": "markdown",
      "source": "## <font color='blue'>Exemplo: Delivery</font>"
    },
    {
      "metadata": {
        "colab_type": "text",
        "id": "ZKc__49bG3DX"
      },
      "cell_type": "markdown",
      "source": "Um restaurante recebe em média **20 pedidos por hora**. Qual a chance de que, em determinada hora escolhida ao acaso, o restaurante receba **15 pedidos**?"
    },
    {
      "metadata": {
        "colab_type": "text",
        "id": "W-MJ4XBkG3DX"
      },
      "cell_type": "markdown",
      "source": "### Qual o número médio de ocorrências por hora ($\\mu$)?"
    },
    {
      "metadata": {
        "colab": {
          "base_uri": "https://localhost:8080/",
          "height": 34
        },
        "colab_type": "code",
        "id": "2fVfJxdSG3DY",
        "outputId": "5f93f4cb-eef7-459d-836c-eb825cf3f1d5",
        "trusted": true
      },
      "cell_type": "code",
      "source": "media <- 20\nmedia",
      "execution_count": 80,
      "outputs": [
        {
          "output_type": "display_data",
          "data": {
            "text/plain": "[1] 20",
            "text/latex": "20",
            "text/markdown": "20",
            "text/html": "20"
          },
          "metadata": {}
        }
      ]
    },
    {
      "metadata": {
        "colab_type": "text",
        "id": "3SagRtPvG3Da"
      },
      "cell_type": "markdown",
      "source": "### Qual o número de ocorrências que queremos obter no período ($k$)?"
    },
    {
      "metadata": {
        "colab": {
          "base_uri": "https://localhost:8080/",
          "height": 34
        },
        "colab_type": "code",
        "id": "yXB3QhWyG3Da",
        "outputId": "70e860fe-353f-43ba-98e9-0976282de023",
        "trusted": true
      },
      "cell_type": "code",
      "source": "k <- 15\nk",
      "execution_count": 81,
      "outputs": [
        {
          "output_type": "display_data",
          "data": {
            "text/plain": "[1] 15",
            "text/latex": "15",
            "text/markdown": "15",
            "text/html": "15"
          },
          "metadata": {}
        }
      ]
    },
    {
      "metadata": {
        "colab_type": "text",
        "id": "3wFh3lFCG3De"
      },
      "cell_type": "markdown",
      "source": "### Solução 1"
    },
    {
      "metadata": {
        "trusted": true
      },
      "cell_type": "code",
      "source": "probabilidade <- ((exp(1) ** (-media)) * (media ** k)) / (factorial(k))\nprobabilidade",
      "execution_count": 82,
      "outputs": [
        {
          "output_type": "display_data",
          "data": {
            "text/plain": "[1] 0.05164885",
            "text/latex": "0.0516488535317584",
            "text/markdown": "0.0516488535317584",
            "text/html": "0.0516488535317584"
          },
          "metadata": {}
        }
      ]
    },
    {
      "metadata": {
        "colab_type": "text",
        "id": "yAyXh0euG3Dk"
      },
      "cell_type": "markdown",
      "source": "### Solução 2\n\n#### <font color=red>Documentações:\n\n- [**Poisson**](https://www.rdocumentation.org/packages/stats/versions/3.6.1/topics/Poisson)"
    },
    {
      "metadata": {
        "trusted": true
      },
      "cell_type": "code",
      "source": "probabilidade <- dpois(x = k, lambda = media)\nprobabilidade",
      "execution_count": 83,
      "outputs": [
        {
          "output_type": "display_data",
          "data": {
            "text/plain": "[1] 0.05164885",
            "text/latex": "0.0516488535317583",
            "text/markdown": "0.0516488535317583",
            "text/html": "0.0516488535317583"
          },
          "metadata": {}
        }
      ]
    },
    {
      "metadata": {
        "colab_type": "text",
        "id": "g3ng8tQFG3Do"
      },
      "cell_type": "markdown",
      "source": "---"
    },
    {
      "metadata": {
        "colab_type": "text",
        "id": "tVPUT9kEG3Dp"
      },
      "cell_type": "markdown",
      "source": "## <font color=red>Problema</font>\n***"
    },
    {
      "metadata": {
        "colab_type": "text",
        "id": "j7zVDN0kG3Dq"
      },
      "cell_type": "markdown",
      "source": "Em um estudo sobre as alturas dos moradores de uma cidade verificou-se que o conjunto de dados segue uma **distribuição aproximadamente normal**, com **média 1,70** e **desvio padrão de 0,1**. Com estas informações obtenha o seguinte conjunto de probabilidades:\n\n> **A.** probabilidade de uma pessoa, selecionada ao acaso, ter menos de 1,80 metros.\n>\n> **B.** probabilidade de uma pessoa, selecionada ao acaso, ter entre 1,60 metros e 1,80 metros.    \n>\n> **C.** probabilidade de uma pessoa, selecionada ao acaso, ter mais de 1,90 metros."
    },
    {
      "metadata": {
        "colab_type": "text",
        "id": "AowcVaKqpvf2"
      },
      "cell_type": "markdown",
      "source": "## <font color=green>2.3 Distribuição Normal</font>\n***"
    },
    {
      "metadata": {
        "colab_type": "text",
        "id": "YOBD21hGG3Dw"
      },
      "cell_type": "markdown",
      "source": "A distribuição normal é uma das mais utilizadas em estatística. É uma distribuição contínua, onde a distribuição de frequências de uma variável quantitativa apresenta a forma de sino e é simétrica em relação a sua média."
    },
    {
      "metadata": {
        "colab_type": "text",
        "id": "kbPy2ORqqKJA"
      },
      "cell_type": "markdown",
      "source": "![Normal](https://caelum-online-public.s3.amazonaws.com/1178-estatistica-parte2/01/img001.png)"
    },
    {
      "metadata": {
        "colab_type": "text",
        "id": "J3eKESHTG3Dx"
      },
      "cell_type": "markdown",
      "source": "### Características importantes"
    },
    {
      "metadata": {
        "colab_type": "text",
        "id": "z8GxAzWZG3Dx"
      },
      "cell_type": "markdown",
      "source": "1. É simétrica em torno da média;\n\n2. A área sob a curva corresponde à proporção 1 ou 100%;\n\n3. As medidas de tendência central (média, mediana e moda) apresentam o mesmo valor;\n\n4. Os extremos da curva tendem ao infinito em ambas as direções e, teoricamente, jamais tocam o eixo $x$;\n\n5. O desvio padrão define o achatamento e largura da distribuição. Curvas mais largas e mais achatadas apresentam valores maiores de desvio padrão;\n\n6. A distribuição é definida por sua média e desvio padrão;\n\n7. A probabilidade sempre será igual à área sob a curva, delimitada pelos limites inferior e superior."
    },
    {
      "metadata": {
        "colab_type": "text",
        "id": "hoWLlOiwG3Dy"
      },
      "cell_type": "markdown",
      "source": "# $$f(x) = \\frac{1}{\\sqrt{2\\pi\\sigma}}e^{-\\frac{1}{2}\\left(\\frac{x-\\mu}{\\sigma}\\right)^2}$$\n\nOnde:\n\n$x$ = variável normal\n\n$\\sigma$ = desvio padrão\n\n$\\mu$ = média"
    },
    {
      "metadata": {
        "colab_type": "text",
        "id": "8n03Z0VlG3Dz"
      },
      "cell_type": "markdown",
      "source": "A probabilidade é obtida a partir da área sob a curva, delimitada pelos limites inferior e superior especificados. Um exemplo pode ser visto na figura abaixo."
    },
    {
      "metadata": {
        "colab_type": "text",
        "id": "X1UgmFoxG3Dz"
      },
      "cell_type": "markdown",
      "source": "![alt text](https://caelum-online-public.s3.amazonaws.com/1178-estatistica-parte2/01/img002.png)\n"
    },
    {
      "metadata": {
        "colab_type": "text",
        "id": "rtKiApHLG3D0"
      },
      "cell_type": "markdown",
      "source": "Para obter a área acima basta calcular a integral da função para os intervalos determinados. Conforme equação abaixo:"
    },
    {
      "metadata": {
        "colab_type": "text",
        "id": "0r_9CbSOG3D0"
      },
      "cell_type": "markdown",
      "source": "# $$P(L_i<x<L_s) = \\int_{L_i}^{L_s}\\frac{1}{\\sqrt{2\\pi\\sigma}}e^{-\\frac{1}{2}\\left(\\frac{x-\\mu}{\\sigma}\\right)^2}$$\n\nOnde:\n\n$x$ = variável normal\n\n$\\sigma$ = desvio padrão\n\n$\\mu$ = média\n\n$L_i$ = limite inferior\n\n$L_s$ = limite superior"
    },
    {
      "metadata": {
        "colab_type": "text",
        "id": "qP-Ye-leG3D1"
      },
      "cell_type": "markdown",
      "source": "### Tabelas padronizadas"
    },
    {
      "metadata": {
        "colab_type": "text",
        "id": "Z1VnLK11G3D1"
      },
      "cell_type": "markdown",
      "source": "As tabelas padronizadas foram criadas para facilitar a obtenção dos valores das áreas sob a curva normal e eliminar a necessidade de solucionar integrais definidas.\n\nPara consultarmos os valores em uma tabela padronizada basta transformarmos nossa variável em uma variável padronizada $Z$.\n\nEsta variável $Z$ representa o afastamento em desvios padrões de um valor da variável original em relação à média."
    },
    {
      "metadata": {
        "colab_type": "text",
        "id": "HJcdgdsgG3D2"
      },
      "cell_type": "markdown",
      "source": "# $$Z = \\frac{x-\\mu}{\\sigma}$$\n\nOnde:\n\n$x$ = variável normal com média $\\mu$ e desvio padrão $\\sigma$\n\n$\\sigma$ = desvio padrão\n\n$\\mu$ = média"
    },
    {
      "metadata": {},
      "cell_type": "markdown",
      "source": "#### <font color=red>Documentações:\n\n- [**Normal**](https://www.rdocumentation.org/packages/stats/versions/3.6.1/topics/Normal)"
    },
    {
      "metadata": {
        "colab_type": "text",
        "id": "hUrVKJH3G3D2"
      },
      "cell_type": "markdown",
      "source": "### Construindo tabela normal padronizada"
    },
    {
      "metadata": {
        "trusted": true
      },
      "cell_type": "code",
      "source": "Z <- seq(0, 3.99, by=0.01)\nprobabilidade <- pnorm(Z)\ntabela_normal_padronizada <- matrix(probabilidade, ncol=10, byrow=TRUE)\ncolnames(tabela_normal_padronizada) <- format(seq(0.00, 0.09, by=0.01))\nrownames(tabela_normal_padronizada) <- format(seq(0.00, 3.90, by=0.10), digits = 2, nsmall = 2)\ntabela_normal_padronizada",
      "execution_count": 84,
      "outputs": [
        {
          "output_type": "display_data",
          "data": {
            "text/plain": "     0.00      0.01      0.02      0.03      0.04      0.05      0.06     \n0.00 0.5000000 0.5039894 0.5079783 0.5119665 0.5159534 0.5199388 0.5239222\n0.10 0.5398278 0.5437953 0.5477584 0.5517168 0.5556700 0.5596177 0.5635595\n0.20 0.5792597 0.5831662 0.5870644 0.5909541 0.5948349 0.5987063 0.6025681\n0.30 0.6179114 0.6217195 0.6255158 0.6293000 0.6330717 0.6368307 0.6405764\n0.40 0.6554217 0.6590970 0.6627573 0.6664022 0.6700314 0.6736448 0.6772419\n0.50 0.6914625 0.6949743 0.6984682 0.7019440 0.7054015 0.7088403 0.7122603\n0.60 0.7257469 0.7290691 0.7323711 0.7356527 0.7389137 0.7421539 0.7453731\n0.70 0.7580363 0.7611479 0.7642375 0.7673049 0.7703500 0.7733726 0.7763727\n0.80 0.7881446 0.7910299 0.7938919 0.7967306 0.7995458 0.8023375 0.8051055\n0.90 0.8159399 0.8185887 0.8212136 0.8238145 0.8263912 0.8289439 0.8314724\n1.00 0.8413447 0.8437524 0.8461358 0.8484950 0.8508300 0.8531409 0.8554277\n1.10 0.8643339 0.8665005 0.8686431 0.8707619 0.8728568 0.8749281 0.8769756\n1.20 0.8849303 0.8868606 0.8887676 0.8906514 0.8925123 0.8943502 0.8961653\n1.30 0.9031995 0.9049021 0.9065825 0.9082409 0.9098773 0.9114920 0.9130850\n1.40 0.9192433 0.9207302 0.9221962 0.9236415 0.9250663 0.9264707 0.9278550\n1.50 0.9331928 0.9344783 0.9357445 0.9369916 0.9382198 0.9394292 0.9406201\n1.60 0.9452007 0.9463011 0.9473839 0.9484493 0.9494974 0.9505285 0.9515428\n1.70 0.9554345 0.9563671 0.9572838 0.9581849 0.9590705 0.9599408 0.9607961\n1.80 0.9640697 0.9648521 0.9656205 0.9663750 0.9671159 0.9678432 0.9685572\n1.90 0.9712834 0.9719334 0.9725711 0.9731966 0.9738102 0.9744119 0.9750021\n2.00 0.9772499 0.9777844 0.9783083 0.9788217 0.9793248 0.9798178 0.9803007\n2.10 0.9821356 0.9825708 0.9829970 0.9834142 0.9838226 0.9842224 0.9846137\n2.20 0.9860966 0.9864474 0.9867906 0.9871263 0.9874545 0.9877755 0.9880894\n2.30 0.9892759 0.9895559 0.9898296 0.9900969 0.9903581 0.9906133 0.9908625\n2.40 0.9918025 0.9920237 0.9922397 0.9924506 0.9926564 0.9928572 0.9930531\n2.50 0.9937903 0.9939634 0.9941323 0.9942969 0.9944574 0.9946139 0.9947664\n2.60 0.9953388 0.9954729 0.9956035 0.9957308 0.9958547 0.9959754 0.9960930\n2.70 0.9965330 0.9966358 0.9967359 0.9968333 0.9969280 0.9970202 0.9971099\n2.80 0.9974449 0.9975229 0.9975988 0.9976726 0.9977443 0.9978140 0.9978818\n2.90 0.9981342 0.9981929 0.9982498 0.9983052 0.9983589 0.9984111 0.9984618\n3.00 0.9986501 0.9986938 0.9987361 0.9987772 0.9988171 0.9988558 0.9988933\n3.10 0.9990324 0.9990646 0.9990957 0.9991260 0.9991553 0.9991836 0.9992112\n3.20 0.9993129 0.9993363 0.9993590 0.9993810 0.9994024 0.9994230 0.9994429\n3.30 0.9995166 0.9995335 0.9995499 0.9995658 0.9995811 0.9995959 0.9996103\n3.40 0.9996631 0.9996752 0.9996869 0.9996982 0.9997091 0.9997197 0.9997299\n3.50 0.9997674 0.9997759 0.9997842 0.9997922 0.9997999 0.9998074 0.9998146\n3.60 0.9998409 0.9998469 0.9998527 0.9998583 0.9998637 0.9998689 0.9998739\n3.70 0.9998922 0.9998964 0.9999004 0.9999043 0.9999080 0.9999116 0.9999150\n3.80 0.9999277 0.9999305 0.9999333 0.9999359 0.9999385 0.9999409 0.9999433\n3.90 0.9999519 0.9999539 0.9999557 0.9999575 0.9999593 0.9999609 0.9999625\n     0.07      0.08      0.09     \n0.00 0.5279032 0.5318814 0.5358564\n0.10 0.5674949 0.5714237 0.5753454\n0.20 0.6064199 0.6102612 0.6140919\n0.30 0.6443088 0.6480273 0.6517317\n0.40 0.6808225 0.6843863 0.6879331\n0.50 0.7156612 0.7190427 0.7224047\n0.60 0.7485711 0.7517478 0.7549029\n0.70 0.7793501 0.7823046 0.7852361\n0.80 0.8078498 0.8105703 0.8132671\n0.90 0.8339768 0.8364569 0.8389129\n1.00 0.8576903 0.8599289 0.8621434\n1.10 0.8789995 0.8809999 0.8829768\n1.20 0.8979577 0.8997274 0.9014747\n1.30 0.9146565 0.9162067 0.9177356\n1.40 0.9292191 0.9305634 0.9318879\n1.50 0.9417924 0.9429466 0.9440826\n1.60 0.9525403 0.9535213 0.9544860\n1.70 0.9616364 0.9624620 0.9632730\n1.80 0.9692581 0.9699460 0.9706210\n1.90 0.9755808 0.9761482 0.9767045\n2.00 0.9807738 0.9812372 0.9816911\n2.10 0.9849966 0.9853713 0.9857379\n2.20 0.9883962 0.9886962 0.9889893\n2.30 0.9911060 0.9913437 0.9915758\n2.40 0.9932443 0.9934309 0.9936128\n2.50 0.9949151 0.9950600 0.9952012\n2.60 0.9962074 0.9963189 0.9964274\n2.70 0.9971972 0.9972821 0.9973646\n2.80 0.9979476 0.9980116 0.9980738\n2.90 0.9985110 0.9985588 0.9986051\n3.00 0.9989297 0.9989650 0.9989992\n3.10 0.9992378 0.9992636 0.9992886\n3.20 0.9994623 0.9994810 0.9994991\n3.30 0.9996242 0.9996376 0.9996505\n3.40 0.9997398 0.9997493 0.9997585\n3.50 0.9998215 0.9998282 0.9998347\n3.60 0.9998787 0.9998834 0.9998879\n3.70 0.9999184 0.9999216 0.9999247\n3.80 0.9999456 0.9999478 0.9999499\n3.90 0.9999641 0.9999655 0.9999670",
            "text/latex": "A matrix: 40 x 10 of type dbl\n\\begin{tabular}{r|llllllllll}\n  & 0.00 & 0.01 & 0.02 & 0.03 & 0.04 & 0.05 & 0.06 & 0.07 & 0.08 & 0.09\\\\\n\\hline\n\t0.00 & 0.5000000 & 0.5039894 & 0.5079783 & 0.5119665 & 0.5159534 & 0.5199388 & 0.5239222 & 0.5279032 & 0.5318814 & 0.5358564\\\\\n\t0.10 & 0.5398278 & 0.5437953 & 0.5477584 & 0.5517168 & 0.5556700 & 0.5596177 & 0.5635595 & 0.5674949 & 0.5714237 & 0.5753454\\\\\n\t0.20 & 0.5792597 & 0.5831662 & 0.5870644 & 0.5909541 & 0.5948349 & 0.5987063 & 0.6025681 & 0.6064199 & 0.6102612 & 0.6140919\\\\\n\t0.30 & 0.6179114 & 0.6217195 & 0.6255158 & 0.6293000 & 0.6330717 & 0.6368307 & 0.6405764 & 0.6443088 & 0.6480273 & 0.6517317\\\\\n\t0.40 & 0.6554217 & 0.6590970 & 0.6627573 & 0.6664022 & 0.6700314 & 0.6736448 & 0.6772419 & 0.6808225 & 0.6843863 & 0.6879331\\\\\n\t0.50 & 0.6914625 & 0.6949743 & 0.6984682 & 0.7019440 & 0.7054015 & 0.7088403 & 0.7122603 & 0.7156612 & 0.7190427 & 0.7224047\\\\\n\t0.60 & 0.7257469 & 0.7290691 & 0.7323711 & 0.7356527 & 0.7389137 & 0.7421539 & 0.7453731 & 0.7485711 & 0.7517478 & 0.7549029\\\\\n\t0.70 & 0.7580363 & 0.7611479 & 0.7642375 & 0.7673049 & 0.7703500 & 0.7733726 & 0.7763727 & 0.7793501 & 0.7823046 & 0.7852361\\\\\n\t0.80 & 0.7881446 & 0.7910299 & 0.7938919 & 0.7967306 & 0.7995458 & 0.8023375 & 0.8051055 & 0.8078498 & 0.8105703 & 0.8132671\\\\\n\t0.90 & 0.8159399 & 0.8185887 & 0.8212136 & 0.8238145 & 0.8263912 & 0.8289439 & 0.8314724 & 0.8339768 & 0.8364569 & 0.8389129\\\\\n\t1.00 & 0.8413447 & 0.8437524 & 0.8461358 & 0.8484950 & 0.8508300 & 0.8531409 & 0.8554277 & 0.8576903 & 0.8599289 & 0.8621434\\\\\n\t1.10 & 0.8643339 & 0.8665005 & 0.8686431 & 0.8707619 & 0.8728568 & 0.8749281 & 0.8769756 & 0.8789995 & 0.8809999 & 0.8829768\\\\\n\t1.20 & 0.8849303 & 0.8868606 & 0.8887676 & 0.8906514 & 0.8925123 & 0.8943502 & 0.8961653 & 0.8979577 & 0.8997274 & 0.9014747\\\\\n\t1.30 & 0.9031995 & 0.9049021 & 0.9065825 & 0.9082409 & 0.9098773 & 0.9114920 & 0.9130850 & 0.9146565 & 0.9162067 & 0.9177356\\\\\n\t1.40 & 0.9192433 & 0.9207302 & 0.9221962 & 0.9236415 & 0.9250663 & 0.9264707 & 0.9278550 & 0.9292191 & 0.9305634 & 0.9318879\\\\\n\t1.50 & 0.9331928 & 0.9344783 & 0.9357445 & 0.9369916 & 0.9382198 & 0.9394292 & 0.9406201 & 0.9417924 & 0.9429466 & 0.9440826\\\\\n\t1.60 & 0.9452007 & 0.9463011 & 0.9473839 & 0.9484493 & 0.9494974 & 0.9505285 & 0.9515428 & 0.9525403 & 0.9535213 & 0.9544860\\\\\n\t1.70 & 0.9554345 & 0.9563671 & 0.9572838 & 0.9581849 & 0.9590705 & 0.9599408 & 0.9607961 & 0.9616364 & 0.9624620 & 0.9632730\\\\\n\t1.80 & 0.9640697 & 0.9648521 & 0.9656205 & 0.9663750 & 0.9671159 & 0.9678432 & 0.9685572 & 0.9692581 & 0.9699460 & 0.9706210\\\\\n\t1.90 & 0.9712834 & 0.9719334 & 0.9725711 & 0.9731966 & 0.9738102 & 0.9744119 & 0.9750021 & 0.9755808 & 0.9761482 & 0.9767045\\\\\n\t2.00 & 0.9772499 & 0.9777844 & 0.9783083 & 0.9788217 & 0.9793248 & 0.9798178 & 0.9803007 & 0.9807738 & 0.9812372 & 0.9816911\\\\\n\t2.10 & 0.9821356 & 0.9825708 & 0.9829970 & 0.9834142 & 0.9838226 & 0.9842224 & 0.9846137 & 0.9849966 & 0.9853713 & 0.9857379\\\\\n\t2.20 & 0.9860966 & 0.9864474 & 0.9867906 & 0.9871263 & 0.9874545 & 0.9877755 & 0.9880894 & 0.9883962 & 0.9886962 & 0.9889893\\\\\n\t2.30 & 0.9892759 & 0.9895559 & 0.9898296 & 0.9900969 & 0.9903581 & 0.9906133 & 0.9908625 & 0.9911060 & 0.9913437 & 0.9915758\\\\\n\t2.40 & 0.9918025 & 0.9920237 & 0.9922397 & 0.9924506 & 0.9926564 & 0.9928572 & 0.9930531 & 0.9932443 & 0.9934309 & 0.9936128\\\\\n\t2.50 & 0.9937903 & 0.9939634 & 0.9941323 & 0.9942969 & 0.9944574 & 0.9946139 & 0.9947664 & 0.9949151 & 0.9950600 & 0.9952012\\\\\n\t2.60 & 0.9953388 & 0.9954729 & 0.9956035 & 0.9957308 & 0.9958547 & 0.9959754 & 0.9960930 & 0.9962074 & 0.9963189 & 0.9964274\\\\\n\t2.70 & 0.9965330 & 0.9966358 & 0.9967359 & 0.9968333 & 0.9969280 & 0.9970202 & 0.9971099 & 0.9971972 & 0.9972821 & 0.9973646\\\\\n\t2.80 & 0.9974449 & 0.9975229 & 0.9975988 & 0.9976726 & 0.9977443 & 0.9978140 & 0.9978818 & 0.9979476 & 0.9980116 & 0.9980738\\\\\n\t2.90 & 0.9981342 & 0.9981929 & 0.9982498 & 0.9983052 & 0.9983589 & 0.9984111 & 0.9984618 & 0.9985110 & 0.9985588 & 0.9986051\\\\\n\t3.00 & 0.9986501 & 0.9986938 & 0.9987361 & 0.9987772 & 0.9988171 & 0.9988558 & 0.9988933 & 0.9989297 & 0.9989650 & 0.9989992\\\\\n\t3.10 & 0.9990324 & 0.9990646 & 0.9990957 & 0.9991260 & 0.9991553 & 0.9991836 & 0.9992112 & 0.9992378 & 0.9992636 & 0.9992886\\\\\n\t3.20 & 0.9993129 & 0.9993363 & 0.9993590 & 0.9993810 & 0.9994024 & 0.9994230 & 0.9994429 & 0.9994623 & 0.9994810 & 0.9994991\\\\\n\t3.30 & 0.9995166 & 0.9995335 & 0.9995499 & 0.9995658 & 0.9995811 & 0.9995959 & 0.9996103 & 0.9996242 & 0.9996376 & 0.9996505\\\\\n\t3.40 & 0.9996631 & 0.9996752 & 0.9996869 & 0.9996982 & 0.9997091 & 0.9997197 & 0.9997299 & 0.9997398 & 0.9997493 & 0.9997585\\\\\n\t3.50 & 0.9997674 & 0.9997759 & 0.9997842 & 0.9997922 & 0.9997999 & 0.9998074 & 0.9998146 & 0.9998215 & 0.9998282 & 0.9998347\\\\\n\t3.60 & 0.9998409 & 0.9998469 & 0.9998527 & 0.9998583 & 0.9998637 & 0.9998689 & 0.9998739 & 0.9998787 & 0.9998834 & 0.9998879\\\\\n\t3.70 & 0.9998922 & 0.9998964 & 0.9999004 & 0.9999043 & 0.9999080 & 0.9999116 & 0.9999150 & 0.9999184 & 0.9999216 & 0.9999247\\\\\n\t3.80 & 0.9999277 & 0.9999305 & 0.9999333 & 0.9999359 & 0.9999385 & 0.9999409 & 0.9999433 & 0.9999456 & 0.9999478 & 0.9999499\\\\\n\t3.90 & 0.9999519 & 0.9999539 & 0.9999557 & 0.9999575 & 0.9999593 & 0.9999609 & 0.9999625 & 0.9999641 & 0.9999655 & 0.9999670\\\\\n\\end{tabular}\n",
            "text/markdown": "\nA matrix: 40 x 10 of type dbl\n\n| <!--/--> | 0.00 | 0.01 | 0.02 | 0.03 | 0.04 | 0.05 | 0.06 | 0.07 | 0.08 | 0.09 |\n|---|---|---|---|---|---|---|---|---|---|---|\n| 0.00 | 0.5000000 | 0.5039894 | 0.5079783 | 0.5119665 | 0.5159534 | 0.5199388 | 0.5239222 | 0.5279032 | 0.5318814 | 0.5358564 |\n| 0.10 | 0.5398278 | 0.5437953 | 0.5477584 | 0.5517168 | 0.5556700 | 0.5596177 | 0.5635595 | 0.5674949 | 0.5714237 | 0.5753454 |\n| 0.20 | 0.5792597 | 0.5831662 | 0.5870644 | 0.5909541 | 0.5948349 | 0.5987063 | 0.6025681 | 0.6064199 | 0.6102612 | 0.6140919 |\n| 0.30 | 0.6179114 | 0.6217195 | 0.6255158 | 0.6293000 | 0.6330717 | 0.6368307 | 0.6405764 | 0.6443088 | 0.6480273 | 0.6517317 |\n| 0.40 | 0.6554217 | 0.6590970 | 0.6627573 | 0.6664022 | 0.6700314 | 0.6736448 | 0.6772419 | 0.6808225 | 0.6843863 | 0.6879331 |\n| 0.50 | 0.6914625 | 0.6949743 | 0.6984682 | 0.7019440 | 0.7054015 | 0.7088403 | 0.7122603 | 0.7156612 | 0.7190427 | 0.7224047 |\n| 0.60 | 0.7257469 | 0.7290691 | 0.7323711 | 0.7356527 | 0.7389137 | 0.7421539 | 0.7453731 | 0.7485711 | 0.7517478 | 0.7549029 |\n| 0.70 | 0.7580363 | 0.7611479 | 0.7642375 | 0.7673049 | 0.7703500 | 0.7733726 | 0.7763727 | 0.7793501 | 0.7823046 | 0.7852361 |\n| 0.80 | 0.7881446 | 0.7910299 | 0.7938919 | 0.7967306 | 0.7995458 | 0.8023375 | 0.8051055 | 0.8078498 | 0.8105703 | 0.8132671 |\n| 0.90 | 0.8159399 | 0.8185887 | 0.8212136 | 0.8238145 | 0.8263912 | 0.8289439 | 0.8314724 | 0.8339768 | 0.8364569 | 0.8389129 |\n| 1.00 | 0.8413447 | 0.8437524 | 0.8461358 | 0.8484950 | 0.8508300 | 0.8531409 | 0.8554277 | 0.8576903 | 0.8599289 | 0.8621434 |\n| 1.10 | 0.8643339 | 0.8665005 | 0.8686431 | 0.8707619 | 0.8728568 | 0.8749281 | 0.8769756 | 0.8789995 | 0.8809999 | 0.8829768 |\n| 1.20 | 0.8849303 | 0.8868606 | 0.8887676 | 0.8906514 | 0.8925123 | 0.8943502 | 0.8961653 | 0.8979577 | 0.8997274 | 0.9014747 |\n| 1.30 | 0.9031995 | 0.9049021 | 0.9065825 | 0.9082409 | 0.9098773 | 0.9114920 | 0.9130850 | 0.9146565 | 0.9162067 | 0.9177356 |\n| 1.40 | 0.9192433 | 0.9207302 | 0.9221962 | 0.9236415 | 0.9250663 | 0.9264707 | 0.9278550 | 0.9292191 | 0.9305634 | 0.9318879 |\n| 1.50 | 0.9331928 | 0.9344783 | 0.9357445 | 0.9369916 | 0.9382198 | 0.9394292 | 0.9406201 | 0.9417924 | 0.9429466 | 0.9440826 |\n| 1.60 | 0.9452007 | 0.9463011 | 0.9473839 | 0.9484493 | 0.9494974 | 0.9505285 | 0.9515428 | 0.9525403 | 0.9535213 | 0.9544860 |\n| 1.70 | 0.9554345 | 0.9563671 | 0.9572838 | 0.9581849 | 0.9590705 | 0.9599408 | 0.9607961 | 0.9616364 | 0.9624620 | 0.9632730 |\n| 1.80 | 0.9640697 | 0.9648521 | 0.9656205 | 0.9663750 | 0.9671159 | 0.9678432 | 0.9685572 | 0.9692581 | 0.9699460 | 0.9706210 |\n| 1.90 | 0.9712834 | 0.9719334 | 0.9725711 | 0.9731966 | 0.9738102 | 0.9744119 | 0.9750021 | 0.9755808 | 0.9761482 | 0.9767045 |\n| 2.00 | 0.9772499 | 0.9777844 | 0.9783083 | 0.9788217 | 0.9793248 | 0.9798178 | 0.9803007 | 0.9807738 | 0.9812372 | 0.9816911 |\n| 2.10 | 0.9821356 | 0.9825708 | 0.9829970 | 0.9834142 | 0.9838226 | 0.9842224 | 0.9846137 | 0.9849966 | 0.9853713 | 0.9857379 |\n| 2.20 | 0.9860966 | 0.9864474 | 0.9867906 | 0.9871263 | 0.9874545 | 0.9877755 | 0.9880894 | 0.9883962 | 0.9886962 | 0.9889893 |\n| 2.30 | 0.9892759 | 0.9895559 | 0.9898296 | 0.9900969 | 0.9903581 | 0.9906133 | 0.9908625 | 0.9911060 | 0.9913437 | 0.9915758 |\n| 2.40 | 0.9918025 | 0.9920237 | 0.9922397 | 0.9924506 | 0.9926564 | 0.9928572 | 0.9930531 | 0.9932443 | 0.9934309 | 0.9936128 |\n| 2.50 | 0.9937903 | 0.9939634 | 0.9941323 | 0.9942969 | 0.9944574 | 0.9946139 | 0.9947664 | 0.9949151 | 0.9950600 | 0.9952012 |\n| 2.60 | 0.9953388 | 0.9954729 | 0.9956035 | 0.9957308 | 0.9958547 | 0.9959754 | 0.9960930 | 0.9962074 | 0.9963189 | 0.9964274 |\n| 2.70 | 0.9965330 | 0.9966358 | 0.9967359 | 0.9968333 | 0.9969280 | 0.9970202 | 0.9971099 | 0.9971972 | 0.9972821 | 0.9973646 |\n| 2.80 | 0.9974449 | 0.9975229 | 0.9975988 | 0.9976726 | 0.9977443 | 0.9978140 | 0.9978818 | 0.9979476 | 0.9980116 | 0.9980738 |\n| 2.90 | 0.9981342 | 0.9981929 | 0.9982498 | 0.9983052 | 0.9983589 | 0.9984111 | 0.9984618 | 0.9985110 | 0.9985588 | 0.9986051 |\n| 3.00 | 0.9986501 | 0.9986938 | 0.9987361 | 0.9987772 | 0.9988171 | 0.9988558 | 0.9988933 | 0.9989297 | 0.9989650 | 0.9989992 |\n| 3.10 | 0.9990324 | 0.9990646 | 0.9990957 | 0.9991260 | 0.9991553 | 0.9991836 | 0.9992112 | 0.9992378 | 0.9992636 | 0.9992886 |\n| 3.20 | 0.9993129 | 0.9993363 | 0.9993590 | 0.9993810 | 0.9994024 | 0.9994230 | 0.9994429 | 0.9994623 | 0.9994810 | 0.9994991 |\n| 3.30 | 0.9995166 | 0.9995335 | 0.9995499 | 0.9995658 | 0.9995811 | 0.9995959 | 0.9996103 | 0.9996242 | 0.9996376 | 0.9996505 |\n| 3.40 | 0.9996631 | 0.9996752 | 0.9996869 | 0.9996982 | 0.9997091 | 0.9997197 | 0.9997299 | 0.9997398 | 0.9997493 | 0.9997585 |\n| 3.50 | 0.9997674 | 0.9997759 | 0.9997842 | 0.9997922 | 0.9997999 | 0.9998074 | 0.9998146 | 0.9998215 | 0.9998282 | 0.9998347 |\n| 3.60 | 0.9998409 | 0.9998469 | 0.9998527 | 0.9998583 | 0.9998637 | 0.9998689 | 0.9998739 | 0.9998787 | 0.9998834 | 0.9998879 |\n| 3.70 | 0.9998922 | 0.9998964 | 0.9999004 | 0.9999043 | 0.9999080 | 0.9999116 | 0.9999150 | 0.9999184 | 0.9999216 | 0.9999247 |\n| 3.80 | 0.9999277 | 0.9999305 | 0.9999333 | 0.9999359 | 0.9999385 | 0.9999409 | 0.9999433 | 0.9999456 | 0.9999478 | 0.9999499 |\n| 3.90 | 0.9999519 | 0.9999539 | 0.9999557 | 0.9999575 | 0.9999593 | 0.9999609 | 0.9999625 | 0.9999641 | 0.9999655 | 0.9999670 |\n\n",
            "text/html": "<table>\n<caption>A matrix: 40 x 10 of type dbl</caption>\n<thead>\n\t<tr><th></th><th scope=col>0.00</th><th scope=col>0.01</th><th scope=col>0.02</th><th scope=col>0.03</th><th scope=col>0.04</th><th scope=col>0.05</th><th scope=col>0.06</th><th scope=col>0.07</th><th scope=col>0.08</th><th scope=col>0.09</th></tr>\n</thead>\n<tbody>\n\t<tr><th scope=row>0.00</th><td>0.5000000</td><td>0.5039894</td><td>0.5079783</td><td>0.5119665</td><td>0.5159534</td><td>0.5199388</td><td>0.5239222</td><td>0.5279032</td><td>0.5318814</td><td>0.5358564</td></tr>\n\t<tr><th scope=row>0.10</th><td>0.5398278</td><td>0.5437953</td><td>0.5477584</td><td>0.5517168</td><td>0.5556700</td><td>0.5596177</td><td>0.5635595</td><td>0.5674949</td><td>0.5714237</td><td>0.5753454</td></tr>\n\t<tr><th scope=row>0.20</th><td>0.5792597</td><td>0.5831662</td><td>0.5870644</td><td>0.5909541</td><td>0.5948349</td><td>0.5987063</td><td>0.6025681</td><td>0.6064199</td><td>0.6102612</td><td>0.6140919</td></tr>\n\t<tr><th scope=row>0.30</th><td>0.6179114</td><td>0.6217195</td><td>0.6255158</td><td>0.6293000</td><td>0.6330717</td><td>0.6368307</td><td>0.6405764</td><td>0.6443088</td><td>0.6480273</td><td>0.6517317</td></tr>\n\t<tr><th scope=row>0.40</th><td>0.6554217</td><td>0.6590970</td><td>0.6627573</td><td>0.6664022</td><td>0.6700314</td><td>0.6736448</td><td>0.6772419</td><td>0.6808225</td><td>0.6843863</td><td>0.6879331</td></tr>\n\t<tr><th scope=row>0.50</th><td>0.6914625</td><td>0.6949743</td><td>0.6984682</td><td>0.7019440</td><td>0.7054015</td><td>0.7088403</td><td>0.7122603</td><td>0.7156612</td><td>0.7190427</td><td>0.7224047</td></tr>\n\t<tr><th scope=row>0.60</th><td>0.7257469</td><td>0.7290691</td><td>0.7323711</td><td>0.7356527</td><td>0.7389137</td><td>0.7421539</td><td>0.7453731</td><td>0.7485711</td><td>0.7517478</td><td>0.7549029</td></tr>\n\t<tr><th scope=row>0.70</th><td>0.7580363</td><td>0.7611479</td><td>0.7642375</td><td>0.7673049</td><td>0.7703500</td><td>0.7733726</td><td>0.7763727</td><td>0.7793501</td><td>0.7823046</td><td>0.7852361</td></tr>\n\t<tr><th scope=row>0.80</th><td>0.7881446</td><td>0.7910299</td><td>0.7938919</td><td>0.7967306</td><td>0.7995458</td><td>0.8023375</td><td>0.8051055</td><td>0.8078498</td><td>0.8105703</td><td>0.8132671</td></tr>\n\t<tr><th scope=row>0.90</th><td>0.8159399</td><td>0.8185887</td><td>0.8212136</td><td>0.8238145</td><td>0.8263912</td><td>0.8289439</td><td>0.8314724</td><td>0.8339768</td><td>0.8364569</td><td>0.8389129</td></tr>\n\t<tr><th scope=row>1.00</th><td>0.8413447</td><td>0.8437524</td><td>0.8461358</td><td>0.8484950</td><td>0.8508300</td><td>0.8531409</td><td>0.8554277</td><td>0.8576903</td><td>0.8599289</td><td>0.8621434</td></tr>\n\t<tr><th scope=row>1.10</th><td>0.8643339</td><td>0.8665005</td><td>0.8686431</td><td>0.8707619</td><td>0.8728568</td><td>0.8749281</td><td>0.8769756</td><td>0.8789995</td><td>0.8809999</td><td>0.8829768</td></tr>\n\t<tr><th scope=row>1.20</th><td>0.8849303</td><td>0.8868606</td><td>0.8887676</td><td>0.8906514</td><td>0.8925123</td><td>0.8943502</td><td>0.8961653</td><td>0.8979577</td><td>0.8997274</td><td>0.9014747</td></tr>\n\t<tr><th scope=row>1.30</th><td>0.9031995</td><td>0.9049021</td><td>0.9065825</td><td>0.9082409</td><td>0.9098773</td><td>0.9114920</td><td>0.9130850</td><td>0.9146565</td><td>0.9162067</td><td>0.9177356</td></tr>\n\t<tr><th scope=row>1.40</th><td>0.9192433</td><td>0.9207302</td><td>0.9221962</td><td>0.9236415</td><td>0.9250663</td><td>0.9264707</td><td>0.9278550</td><td>0.9292191</td><td>0.9305634</td><td>0.9318879</td></tr>\n\t<tr><th scope=row>1.50</th><td>0.9331928</td><td>0.9344783</td><td>0.9357445</td><td>0.9369916</td><td>0.9382198</td><td>0.9394292</td><td>0.9406201</td><td>0.9417924</td><td>0.9429466</td><td>0.9440826</td></tr>\n\t<tr><th scope=row>1.60</th><td>0.9452007</td><td>0.9463011</td><td>0.9473839</td><td>0.9484493</td><td>0.9494974</td><td>0.9505285</td><td>0.9515428</td><td>0.9525403</td><td>0.9535213</td><td>0.9544860</td></tr>\n\t<tr><th scope=row>1.70</th><td>0.9554345</td><td>0.9563671</td><td>0.9572838</td><td>0.9581849</td><td>0.9590705</td><td>0.9599408</td><td>0.9607961</td><td>0.9616364</td><td>0.9624620</td><td>0.9632730</td></tr>\n\t<tr><th scope=row>1.80</th><td>0.9640697</td><td>0.9648521</td><td>0.9656205</td><td>0.9663750</td><td>0.9671159</td><td>0.9678432</td><td>0.9685572</td><td>0.9692581</td><td>0.9699460</td><td>0.9706210</td></tr>\n\t<tr><th scope=row>1.90</th><td>0.9712834</td><td>0.9719334</td><td>0.9725711</td><td>0.9731966</td><td>0.9738102</td><td>0.9744119</td><td>0.9750021</td><td>0.9755808</td><td>0.9761482</td><td>0.9767045</td></tr>\n\t<tr><th scope=row>2.00</th><td>0.9772499</td><td>0.9777844</td><td>0.9783083</td><td>0.9788217</td><td>0.9793248</td><td>0.9798178</td><td>0.9803007</td><td>0.9807738</td><td>0.9812372</td><td>0.9816911</td></tr>\n\t<tr><th scope=row>2.10</th><td>0.9821356</td><td>0.9825708</td><td>0.9829970</td><td>0.9834142</td><td>0.9838226</td><td>0.9842224</td><td>0.9846137</td><td>0.9849966</td><td>0.9853713</td><td>0.9857379</td></tr>\n\t<tr><th scope=row>2.20</th><td>0.9860966</td><td>0.9864474</td><td>0.9867906</td><td>0.9871263</td><td>0.9874545</td><td>0.9877755</td><td>0.9880894</td><td>0.9883962</td><td>0.9886962</td><td>0.9889893</td></tr>\n\t<tr><th scope=row>2.30</th><td>0.9892759</td><td>0.9895559</td><td>0.9898296</td><td>0.9900969</td><td>0.9903581</td><td>0.9906133</td><td>0.9908625</td><td>0.9911060</td><td>0.9913437</td><td>0.9915758</td></tr>\n\t<tr><th scope=row>2.40</th><td>0.9918025</td><td>0.9920237</td><td>0.9922397</td><td>0.9924506</td><td>0.9926564</td><td>0.9928572</td><td>0.9930531</td><td>0.9932443</td><td>0.9934309</td><td>0.9936128</td></tr>\n\t<tr><th scope=row>2.50</th><td>0.9937903</td><td>0.9939634</td><td>0.9941323</td><td>0.9942969</td><td>0.9944574</td><td>0.9946139</td><td>0.9947664</td><td>0.9949151</td><td>0.9950600</td><td>0.9952012</td></tr>\n\t<tr><th scope=row>2.60</th><td>0.9953388</td><td>0.9954729</td><td>0.9956035</td><td>0.9957308</td><td>0.9958547</td><td>0.9959754</td><td>0.9960930</td><td>0.9962074</td><td>0.9963189</td><td>0.9964274</td></tr>\n\t<tr><th scope=row>2.70</th><td>0.9965330</td><td>0.9966358</td><td>0.9967359</td><td>0.9968333</td><td>0.9969280</td><td>0.9970202</td><td>0.9971099</td><td>0.9971972</td><td>0.9972821</td><td>0.9973646</td></tr>\n\t<tr><th scope=row>2.80</th><td>0.9974449</td><td>0.9975229</td><td>0.9975988</td><td>0.9976726</td><td>0.9977443</td><td>0.9978140</td><td>0.9978818</td><td>0.9979476</td><td>0.9980116</td><td>0.9980738</td></tr>\n\t<tr><th scope=row>2.90</th><td>0.9981342</td><td>0.9981929</td><td>0.9982498</td><td>0.9983052</td><td>0.9983589</td><td>0.9984111</td><td>0.9984618</td><td>0.9985110</td><td>0.9985588</td><td>0.9986051</td></tr>\n\t<tr><th scope=row>3.00</th><td>0.9986501</td><td>0.9986938</td><td>0.9987361</td><td>0.9987772</td><td>0.9988171</td><td>0.9988558</td><td>0.9988933</td><td>0.9989297</td><td>0.9989650</td><td>0.9989992</td></tr>\n\t<tr><th scope=row>3.10</th><td>0.9990324</td><td>0.9990646</td><td>0.9990957</td><td>0.9991260</td><td>0.9991553</td><td>0.9991836</td><td>0.9992112</td><td>0.9992378</td><td>0.9992636</td><td>0.9992886</td></tr>\n\t<tr><th scope=row>3.20</th><td>0.9993129</td><td>0.9993363</td><td>0.9993590</td><td>0.9993810</td><td>0.9994024</td><td>0.9994230</td><td>0.9994429</td><td>0.9994623</td><td>0.9994810</td><td>0.9994991</td></tr>\n\t<tr><th scope=row>3.30</th><td>0.9995166</td><td>0.9995335</td><td>0.9995499</td><td>0.9995658</td><td>0.9995811</td><td>0.9995959</td><td>0.9996103</td><td>0.9996242</td><td>0.9996376</td><td>0.9996505</td></tr>\n\t<tr><th scope=row>3.40</th><td>0.9996631</td><td>0.9996752</td><td>0.9996869</td><td>0.9996982</td><td>0.9997091</td><td>0.9997197</td><td>0.9997299</td><td>0.9997398</td><td>0.9997493</td><td>0.9997585</td></tr>\n\t<tr><th scope=row>3.50</th><td>0.9997674</td><td>0.9997759</td><td>0.9997842</td><td>0.9997922</td><td>0.9997999</td><td>0.9998074</td><td>0.9998146</td><td>0.9998215</td><td>0.9998282</td><td>0.9998347</td></tr>\n\t<tr><th scope=row>3.60</th><td>0.9998409</td><td>0.9998469</td><td>0.9998527</td><td>0.9998583</td><td>0.9998637</td><td>0.9998689</td><td>0.9998739</td><td>0.9998787</td><td>0.9998834</td><td>0.9998879</td></tr>\n\t<tr><th scope=row>3.70</th><td>0.9998922</td><td>0.9998964</td><td>0.9999004</td><td>0.9999043</td><td>0.9999080</td><td>0.9999116</td><td>0.9999150</td><td>0.9999184</td><td>0.9999216</td><td>0.9999247</td></tr>\n\t<tr><th scope=row>3.80</th><td>0.9999277</td><td>0.9999305</td><td>0.9999333</td><td>0.9999359</td><td>0.9999385</td><td>0.9999409</td><td>0.9999433</td><td>0.9999456</td><td>0.9999478</td><td>0.9999499</td></tr>\n\t<tr><th scope=row>3.90</th><td>0.9999519</td><td>0.9999539</td><td>0.9999557</td><td>0.9999575</td><td>0.9999593</td><td>0.9999609</td><td>0.9999625</td><td>0.9999641</td><td>0.9999655</td><td>0.9999670</td></tr>\n</tbody>\n</table>\n"
          },
          "metadata": {}
        }
      ]
    },
    {
      "metadata": {
        "colab_type": "text",
        "id": "XHYeMaN3G3D9"
      },
      "cell_type": "markdown",
      "source": "<img src='https://caelum-online-public.s3.amazonaws.com/1178-estatistica-parte2/01/img003.png' width='250px'>\n\nA tabela acima fornece a área sob a curva entre $-\\infty$ e $Z$ desvios padrão acima da média. Lembrando que por se tratar de valores padronizados temos $\\mu = 0$."
    },
    {
      "metadata": {
        "colab_type": "text",
        "id": "Bs-KyZAJG3D-"
      },
      "cell_type": "markdown",
      "source": "## <font color='blue'>Exemplo: Qual sua altura?</font>"
    },
    {
      "metadata": {
        "colab_type": "text",
        "id": "8PFIjXejG3EA"
      },
      "cell_type": "markdown",
      "source": "Em um estudo sobre as alturas dos moradores de uma cidade verificou-se que o conjunto de dados segue uma **distribuição aproximadamente normal**, com **média 1,70** e **desvio padrão de 0,1**. Com estas informações obtenha o seguinte conjunto de probabilidades:\n\n> **A.** probabilidade de uma pessoa, selecionada ao acaso, ter menos de 1,80 metros.\n>\n> **B.** probabilidade de uma pessoa, selecionada ao acaso, ter entre 1,60 metros e 1,80 metros.    \n>\n> **C.** probabilidade de uma pessoa, selecionada ao acaso, ter mais de 1,90 metros."
    },
    {
      "metadata": {
        "colab_type": "text",
        "id": "aHpZLwt1G3EC"
      },
      "cell_type": "markdown",
      "source": "### Problema A - Identificação da área sob a curva"
    },
    {
      "metadata": {
        "colab_type": "text",
        "id": "V1eC7tydG3EF"
      },
      "cell_type": "markdown",
      "source": "<img style='float: left' src='https://caelum-online-public.s3.amazonaws.com/1178-estatistica-parte2/01/img004.png' width='350px'>"
    },
    {
      "metadata": {
        "colab_type": "text",
        "id": "X61wEuRrG3EI"
      },
      "cell_type": "markdown",
      "source": "### Obter a variável padronizada $Z$"
    },
    {
      "metadata": {
        "colab": {
          "base_uri": "https://localhost:8080/",
          "height": 34
        },
        "colab_type": "code",
        "id": "gNSNIMvZG3EK",
        "outputId": "2d4048a7-4c0a-4f51-c964-2f063cbdf092",
        "trusted": true
      },
      "cell_type": "code",
      "source": "media <- 1.7\nmedia",
      "execution_count": 85,
      "outputs": [
        {
          "output_type": "display_data",
          "data": {
            "text/plain": "[1] 1.7",
            "text/latex": "1.7",
            "text/markdown": "1.7",
            "text/html": "1.7"
          },
          "metadata": {}
        }
      ]
    },
    {
      "metadata": {
        "colab": {
          "base_uri": "https://localhost:8080/",
          "height": 34
        },
        "colab_type": "code",
        "id": "E_f2lycRG3ES",
        "outputId": "7bb0daf7-7f86-4bdd-f195-429e7b68d239",
        "trusted": true
      },
      "cell_type": "code",
      "source": "desvio_padrao <- 0.1\ndesvio_padrao",
      "execution_count": 86,
      "outputs": [
        {
          "output_type": "display_data",
          "data": {
            "text/plain": "[1] 0.1",
            "text/latex": "0.1",
            "text/markdown": "0.1",
            "text/html": "0.1"
          },
          "metadata": {}
        }
      ]
    },
    {
      "metadata": {
        "colab": {
          "base_uri": "https://localhost:8080/",
          "height": 34
        },
        "colab_type": "code",
        "id": "xnsCkUb6G3EX",
        "outputId": "b3f57dbb-4c23-4b9f-e89d-d8c35383a2d2",
        "trusted": true
      },
      "cell_type": "code",
      "source": "Z <- (1.8 - media) / desvio_padrao\nZ",
      "execution_count": 87,
      "outputs": [
        {
          "output_type": "display_data",
          "data": {
            "text/plain": "[1] 1",
            "text/latex": "1",
            "text/markdown": "1",
            "text/html": "1"
          },
          "metadata": {}
        }
      ]
    },
    {
      "metadata": {
        "colab_type": "text",
        "id": "oj9sgHbkG3Eb"
      },
      "cell_type": "markdown",
      "source": "### Solução 1 - Utilizando tabela"
    },
    {
      "metadata": {
        "colab": {
          "base_uri": "https://localhost:8080/",
          "height": 34
        },
        "colab_type": "code",
        "id": "ReDTH3WgG3Ec",
        "outputId": "ec542c14-9cd4-405d-a899-dfa92493aa84",
        "trusted": true
      },
      "cell_type": "code",
      "source": "probabilidade <- 0.8413447\nprobabilidade",
      "execution_count": 88,
      "outputs": [
        {
          "output_type": "display_data",
          "data": {
            "text/plain": "[1] 0.8413447",
            "text/latex": "0.8413447",
            "text/markdown": "0.8413447",
            "text/html": "0.8413447"
          },
          "metadata": {}
        }
      ]
    },
    {
      "metadata": {
        "colab_type": "text",
        "id": "4ud0OnQOG3Eh"
      },
      "cell_type": "markdown",
      "source": "### Solução 2 - Utilizando função"
    },
    {
      "metadata": {
        "colab": {
          "base_uri": "https://localhost:8080/",
          "height": 34
        },
        "colab_type": "code",
        "id": "sx7riZVlG3Ei",
        "outputId": "c321c9f8-a1a8-44f8-977b-492d2ec65152",
        "trusted": true
      },
      "cell_type": "code",
      "source": "pnorm(Z)",
      "execution_count": 89,
      "outputs": [
        {
          "output_type": "display_data",
          "data": {
            "text/plain": "[1] 0.8413447",
            "text/latex": "0.841344746068543",
            "text/markdown": "0.841344746068543",
            "text/html": "0.841344746068543"
          },
          "metadata": {}
        }
      ]
    },
    {
      "metadata": {
        "colab_type": "text",
        "id": "ZsnMjGzJG3Ep"
      },
      "cell_type": "markdown",
      "source": "### Problema B - Identificação da área sob a curva"
    },
    {
      "metadata": {
        "colab_type": "text",
        "id": "LN2HY-UCG3Ep"
      },
      "cell_type": "markdown",
      "source": "<img style='float: left' src='https://caelum-online-public.s3.amazonaws.com/1178-estatistica-parte2/01/img005.png' width='350px'>"
    },
    {
      "metadata": {
        "colab_type": "text",
        "id": "FS6WNg88G3Eq"
      },
      "cell_type": "markdown",
      "source": "### Obter a variável padronizada $Z$"
    },
    {
      "metadata": {
        "colab": {
          "base_uri": "https://localhost:8080/",
          "height": 34
        },
        "colab_type": "code",
        "id": "mxPsPIOYG3Er",
        "outputId": "d86de31f-1ca0-443c-8ed6-81edfe5d36f4",
        "trusted": true
      },
      "cell_type": "code",
      "source": "Z_inferior <- (1.6 - media) / desvio_padrao\nround(Z_inferior, 2)",
      "execution_count": 90,
      "outputs": [
        {
          "output_type": "display_data",
          "data": {
            "text/plain": "[1] -1",
            "text/latex": "-1",
            "text/markdown": "-1",
            "text/html": "-1"
          },
          "metadata": {}
        }
      ]
    },
    {
      "metadata": {
        "colab": {
          "base_uri": "https://localhost:8080/",
          "height": 34
        },
        "colab_type": "code",
        "id": "s0Vf0GXHG3Et",
        "outputId": "5237e5e2-547b-4cbf-a5da-52bd4933f6a1",
        "trusted": true
      },
      "cell_type": "code",
      "source": "Z_superior <- (1.8 - media) / desvio_padrao\nround(Z_superior, 2)",
      "execution_count": 91,
      "outputs": [
        {
          "output_type": "display_data",
          "data": {
            "text/plain": "[1] 1",
            "text/latex": "1",
            "text/markdown": "1",
            "text/html": "1"
          },
          "metadata": {}
        }
      ]
    },
    {
      "metadata": {
        "colab_type": "text",
        "id": "MseXjmZ7G3E0"
      },
      "cell_type": "markdown",
      "source": "### Solução 1 - Utilizando tabela"
    },
    {
      "metadata": {
        "colab": {
          "base_uri": "https://localhost:8080/",
          "height": 34
        },
        "colab_type": "code",
        "id": "swZ6SVQGG3E0",
        "outputId": "53e30c74-5ec5-4737-f928-600388bfe570",
        "trusted": true
      },
      "cell_type": "code",
      "source": "probabilidade <- (0.8413447 - 0.5) * 2\nprobabilidade",
      "execution_count": 92,
      "outputs": [
        {
          "output_type": "display_data",
          "data": {
            "text/plain": "[1] 0.6826894",
            "text/latex": "0.6826894",
            "text/markdown": "0.6826894",
            "text/html": "0.6826894"
          },
          "metadata": {}
        }
      ]
    },
    {
      "metadata": {
        "colab": {
          "base_uri": "https://localhost:8080/",
          "height": 34
        },
        "colab_type": "code",
        "id": "oNfZZRBdGy2G",
        "outputId": "408ee333-2e8e-4058-fe74-a75b715eedf8",
        "trusted": true
      },
      "cell_type": "code",
      "source": "probabilidade <- 0.8413447 - (1 - 0.8413447)\nprobabilidade",
      "execution_count": 93,
      "outputs": [
        {
          "output_type": "display_data",
          "data": {
            "text/plain": "[1] 0.6826894",
            "text/latex": "0.6826894",
            "text/markdown": "0.6826894",
            "text/html": "0.6826894"
          },
          "metadata": {}
        }
      ]
    },
    {
      "metadata": {
        "colab_type": "text",
        "id": "y5e4zAifG3E2"
      },
      "cell_type": "markdown",
      "source": "### Solução 2 - Utilizando função"
    },
    {
      "metadata": {
        "colab": {
          "base_uri": "https://localhost:8080/",
          "height": 34
        },
        "colab_type": "code",
        "id": "hcps6lkNG3E3",
        "outputId": "c8de38f1-8411-408c-862c-7aa6e099e43f",
        "trusted": true
      },
      "cell_type": "code",
      "source": "probabilidade <- pnorm(Z_superior) - (1 - pnorm(Z_superior))\nprobabilidade",
      "execution_count": 94,
      "outputs": [
        {
          "output_type": "display_data",
          "data": {
            "text/plain": "[1] 0.6826895",
            "text/latex": "0.682689492137086",
            "text/markdown": "0.682689492137086",
            "text/html": "0.682689492137086"
          },
          "metadata": {}
        }
      ]
    },
    {
      "metadata": {
        "colab": {
          "base_uri": "https://localhost:8080/",
          "height": 34
        },
        "colab_type": "code",
        "id": "MjEfhnQEG3E5",
        "outputId": "4a6241c6-1b04-4c5f-b62d-9e98f412f3ad",
        "trusted": true
      },
      "cell_type": "code",
      "source": "probabilidade <- pnorm(Z_superior) - pnorm(Z_inferior)\nprobabilidade",
      "execution_count": 95,
      "outputs": [
        {
          "output_type": "display_data",
          "data": {
            "text/plain": "[1] 0.6826895",
            "text/latex": "0.682689492137086",
            "text/markdown": "0.682689492137086",
            "text/html": "0.682689492137086"
          },
          "metadata": {}
        }
      ]
    },
    {
      "metadata": {
        "colab_type": "text",
        "id": "05sqVgdaG3E-"
      },
      "cell_type": "markdown",
      "source": "### Problema C - Identificação da área sob a curva"
    },
    {
      "metadata": {
        "colab_type": "text",
        "id": "EPKhGTEkG3E_"
      },
      "cell_type": "markdown",
      "source": "<img style='float: left' src='https://caelum-online-public.s3.amazonaws.com/1178-estatistica-parte2/01/img006.png' width='350px'>"
    },
    {
      "metadata": {
        "colab_type": "text",
        "id": "BA6jYbsSG3E_"
      },
      "cell_type": "markdown",
      "source": "### Obter a variável padronizada $Z$"
    },
    {
      "metadata": {
        "colab": {
          "base_uri": "https://localhost:8080/",
          "height": 34
        },
        "colab_type": "code",
        "id": "3OVj60MzG3E_",
        "outputId": "71f57b74-bc13-4493-f8ba-6f05a2a07041",
        "trusted": true
      },
      "cell_type": "code",
      "source": "Z <- (1.9 - media) / desvio_padrao\nZ",
      "execution_count": 96,
      "outputs": [
        {
          "output_type": "display_data",
          "data": {
            "text/plain": "[1] 2",
            "text/latex": "2",
            "text/markdown": "2",
            "text/html": "2"
          },
          "metadata": {}
        }
      ]
    },
    {
      "metadata": {
        "colab_type": "text",
        "id": "hCiiWAm_G3FC"
      },
      "cell_type": "markdown",
      "source": "### Solução 1 - Utilizando tabela"
    },
    {
      "metadata": {
        "trusted": true
      },
      "cell_type": "code",
      "source": "probabilidade <- 1 - 0.9772499\nprobabilidade",
      "execution_count": 97,
      "outputs": [
        {
          "output_type": "display_data",
          "data": {
            "text/plain": "[1] 0.0227501",
            "text/latex": "0.0227501",
            "text/markdown": "0.0227501",
            "text/html": "0.0227501"
          },
          "metadata": {}
        }
      ]
    },
    {
      "metadata": {
        "colab_type": "text",
        "id": "QCyoVXOdG3FF"
      },
      "cell_type": "markdown",
      "source": "### Solução 2 - Utilizando função"
    },
    {
      "metadata": {
        "colab": {
          "base_uri": "https://localhost:8080/",
          "height": 34
        },
        "colab_type": "code",
        "id": "caIE-t83G3FF",
        "outputId": "224b72ff-7edd-4b66-a24e-a1f89e4685c9",
        "trusted": true
      },
      "cell_type": "code",
      "source": "probabilidade <- 1 - pnorm(Z)\nprobabilidade",
      "execution_count": 98,
      "outputs": [
        {
          "output_type": "display_data",
          "data": {
            "text/plain": "[1] 0.02275013",
            "text/latex": "0.0227501319481792",
            "text/markdown": "0.0227501319481792",
            "text/html": "0.0227501319481792"
          },
          "metadata": {}
        }
      ]
    },
    {
      "metadata": {
        "colab": {
          "base_uri": "https://localhost:8080/",
          "height": 34
        },
        "colab_type": "code",
        "id": "wKjqQGgMG3FI",
        "outputId": "7ef30837-195e-4f5b-9bef-68fceaff2397",
        "trusted": true
      },
      "cell_type": "code",
      "source": "probabilidade <- pnorm(-Z)\nprobabilidade",
      "execution_count": 99,
      "outputs": [
        {
          "output_type": "display_data",
          "data": {
            "text/plain": "[1] 0.02275013",
            "text/latex": "0.0227501319481792",
            "text/markdown": "0.0227501319481792",
            "text/html": "0.0227501319481792"
          },
          "metadata": {}
        }
      ]
    },
    {
      "metadata": {
        "colab_type": "text",
        "id": "GmmzChE2t4wW"
      },
      "cell_type": "markdown",
      "source": "# <font color=green>3 AMOSTRAGEM</font>\n***"
    },
    {
      "metadata": {
        "colab_type": "text",
        "id": "g8PbtmQZt4Wv"
      },
      "cell_type": "markdown",
      "source": "## <font color=green>3.1 População e Amostra</font>\n***"
    },
    {
      "metadata": {
        "colab_type": "text",
        "id": "sedD5gB9G3FV"
      },
      "cell_type": "markdown",
      "source": "### População\nConjunto de todos os elementos de interesse em um estudo. Diversos elementos podem compor uma população, por exemplo: pessoas, idades, alturas, carros etc.\n\nCom relação ao tamanho, as populações podem ser limitadas (populações finitas) ou ilimitadas (populações infinitas)."
    },
    {
      "metadata": {
        "colab_type": "text",
        "id": "XBFhAWNcG3FW"
      },
      "cell_type": "markdown",
      "source": "### Populações finitas\n\nPermitem a contagem de seus elementos. Como exemplos temos o número de funcionário de uma empresa, a quantidade de alunos em uma escola etc."
    },
    {
      "metadata": {
        "colab_type": "text",
        "id": "YT8V2GB1G3FW"
      },
      "cell_type": "markdown",
      "source": "### Populações infinitas\n\nNão é possível contar seus elementos. Como exemplos temos a quantidade de porções que se pode extrair da água do mar para uma análise, temperatura medida em cada ponto de um território etc.\n\n<font color=red>Quando os elementos de uma população puderem ser contados, porém apresentando uma quantidade muito grande, assume-se a população como infinita.</font>."
    },
    {
      "metadata": {
        "colab_type": "text",
        "id": "a-WtAXv1G3FX"
      },
      "cell_type": "markdown",
      "source": "### Amostra\nSubconjunto representativo da população."
    },
    {
      "metadata": {
        "colab_type": "text",
        "id": "QWnDYpPSG3FX"
      },
      "cell_type": "markdown",
      "source": "Os atributos numéricos de uma população como sua média, variância e desvio padrão, são conhecidos como **parâmetros**. O principal foco da inferência estatística é justamente gerar estimativas e testar hipóteses sobre os parâmetros populacionais utilizando as informações de amostras."
    },
    {
      "metadata": {
        "colab_type": "text",
        "id": "dDz6vFbDG3FZ"
      },
      "cell_type": "markdown",
      "source": "## <font color=green>3.2 Quando utilizar uma amostra?</font>\n***"
    },
    {
      "metadata": {
        "colab_type": "text",
        "id": "5X1YwCGlG3Fe"
      },
      "cell_type": "markdown",
      "source": "### Populações infinitas\n\nO estudo não chegaria nunca ao fim. Não é possível investigar todos os elementos da população."
    },
    {
      "metadata": {
        "colab_type": "text",
        "id": "jHLtG8HSG3Ff"
      },
      "cell_type": "markdown",
      "source": "### Testes destrutivos\n\nEstudos onde os elementos avaliados são totalmente consumidos ou destruídos. Exemplo: testes de vida útil, testes de segurança contra colisões em automóveis."
    },
    {
      "metadata": {
        "colab_type": "text",
        "id": "lxYxepmdG3Ff"
      },
      "cell_type": "markdown",
      "source": "### Resultados rápidos\n\nPesquisas que precisam de mais agilidade na divulgação. Exemplo: pesquisas de opinião, pesquisas que envolvam problemas de saúde pública."
    },
    {
      "metadata": {
        "colab_type": "text",
        "id": "PeUCGL5nG3Fj"
      },
      "cell_type": "markdown",
      "source": "### Custos elevados\n\nQuando a população é finita mas muito numerosa, o custo de um censo pode tornar o processo inviável."
    },
    {
      "metadata": {
        "colab_type": "text",
        "id": "1sbJeMpSG3Fj"
      },
      "cell_type": "markdown",
      "source": "## <font color=green>3.3 Amostragem Aleatória Simples</font>\n***"
    },
    {
      "metadata": {
        "colab_type": "text",
        "id": "Kiq9cYMYG3Fp"
      },
      "cell_type": "markdown",
      "source": "É uma das principais maneiras de se extrair uma amostra de uma população. A exigência fundamental deste tipo de abordagem é que cada elemento da população tenha a mesma chance de ser selecionado para fazer parte da amostra."
    },
    {
      "metadata": {},
      "cell_type": "markdown",
      "source": "#### <font color=red>Documentações:\n\n- [**sample**](https://www.rdocumentation.org/packages/dplyr/versions/0.7.8/topics/sample)"
    },
    {
      "metadata": {
        "trusted": true
      },
      "cell_type": "code",
      "source": "library(dplyr)",
      "execution_count": 100,
      "outputs": []
    },
    {
      "metadata": {
        "colab": {
          "base_uri": "https://localhost:8080/",
          "height": 34
        },
        "colab_type": "code",
        "id": "NtQ8HOYdG3Fq",
        "outputId": "d746a965-c212-4b99-ac1f-a7741b13544f",
        "trusted": true
      },
      "cell_type": "code",
      "source": "nrow(dados)",
      "execution_count": 101,
      "outputs": [
        {
          "output_type": "display_data",
          "data": {
            "text/plain": "[1] 76840",
            "text/latex": "76840",
            "text/markdown": "76840",
            "text/html": "76840"
          },
          "metadata": {}
        }
      ]
    },
    {
      "metadata": {
        "colab": {
          "base_uri": "https://localhost:8080/",
          "height": 34
        },
        "colab_type": "code",
        "id": "DsXJHWhMG3Fs",
        "outputId": "b5e5d083-2d89-4f31-e8dd-5ae48375a81c",
        "trusted": true
      },
      "cell_type": "code",
      "source": "mean(dados$Renda)",
      "execution_count": 102,
      "outputs": [
        {
          "output_type": "display_data",
          "data": {
            "text/plain": "[1] 2000.383",
            "text/latex": "2000.38319885476",
            "text/markdown": "2000.38319885476",
            "text/html": "2000.38319885476"
          },
          "metadata": {}
        }
      ]
    },
    {
      "metadata": {
        "trusted": true
      },
      "cell_type": "code",
      "source": "set.seed(2811)\namostra <- sample_n(dados, 1000)",
      "execution_count": 103,
      "outputs": []
    },
    {
      "metadata": {
        "trusted": true
      },
      "cell_type": "code",
      "source": "nrow(amostra)",
      "execution_count": 104,
      "outputs": [
        {
          "output_type": "display_data",
          "data": {
            "text/plain": "[1] 1000",
            "text/latex": "1000",
            "text/markdown": "1000",
            "text/html": "1000"
          },
          "metadata": {}
        }
      ]
    },
    {
      "metadata": {
        "trusted": true
      },
      "cell_type": "code",
      "source": "mean(amostra$Renda)",
      "execution_count": 105,
      "outputs": [
        {
          "output_type": "display_data",
          "data": {
            "text/plain": "[1] 2007.197",
            "text/latex": "2007.197",
            "text/markdown": "2007.197",
            "text/html": "2007.197"
          },
          "metadata": {}
        }
      ]
    },
    {
      "metadata": {
        "trusted": true
      },
      "cell_type": "code",
      "source": "prop.table(table(dados$Sexo))",
      "execution_count": 106,
      "outputs": [
        {
          "output_type": "display_data",
          "data": {
            "text/plain": "\n        0         1 \n0.6929984 0.3070016 "
          },
          "metadata": {}
        }
      ]
    },
    {
      "metadata": {
        "colab": {
          "base_uri": "https://localhost:8080/",
          "height": 68
        },
        "colab_type": "code",
        "id": "WGZT_wnjSgPy",
        "outputId": "f905ff8a-84f8-45d5-d232-927630754b70",
        "trusted": true
      },
      "cell_type": "code",
      "source": "prop.table(table(amostra$Sexo))",
      "execution_count": 107,
      "outputs": [
        {
          "output_type": "display_data",
          "data": {
            "text/plain": "\n    0     1 \n0.687 0.313 "
          },
          "metadata": {}
        }
      ]
    },
    {
      "metadata": {
        "colab_type": "text",
        "id": "stcKhnJBG3F7"
      },
      "cell_type": "markdown",
      "source": "## <font color=green>3.4 Amostragem Estratificada</font>\n***"
    },
    {
      "metadata": {
        "colab_type": "text",
        "id": "W1uEZMRIG3GA"
      },
      "cell_type": "markdown",
      "source": "É uma melhoria do processo de amostragem aleatória simples. Neste método é proposta a divisão da população em subgrupos de elementos com características similares, ou seja, grupos mais homogêneos. Com estes subgrupos separados, aplica-se a técnica de amostragem aleatória simples dentro de cada subgrupo individualmente."
    },
    {
      "metadata": {
        "colab_type": "text",
        "id": "xRjUHDAbG3GB"
      },
      "cell_type": "markdown",
      "source": "## <font color=green>3.5 Amostragem por Conglomerados</font>\n***"
    },
    {
      "metadata": {
        "colab_type": "text",
        "id": "sW9IuaL9G3GH"
      },
      "cell_type": "markdown",
      "source": "Também visa melhorar o critério de amostragem aleatória simples. Na amostragem por conglomerados são também criados subgrupos, porém não serão homogêneas como na amostragem estratificada. Na amostragem por conglomerados os subgrupos serão heterogêneos, onde, em seguida, serão aplicadas a amostragem aleatória simples ou estratificada.\n\nUm exemplo bastante comum de aplicação deste tipo de técnica é na divisão da população em grupos territoriais, onde os elementos investigados terão características bastante variadas."
    },
    {
      "metadata": {
        "colab_type": "text",
        "id": "2LNJT4FEuzO4"
      },
      "cell_type": "markdown",
      "source": "# <font color=green>4 ESTIMAÇÃO</font>\n***"
    },
    {
      "metadata": {
        "colab_type": "text",
        "id": "z69W2sVGmybS"
      },
      "cell_type": "markdown",
      "source": "## <font color='red'>Problema </font>"
    },
    {
      "metadata": {
        "colab_type": "text",
        "id": "ytP6VpismwDY"
      },
      "cell_type": "markdown",
      "source": "Suponha que os pesos dos sacos de arroz de uma indústria alimentícia se distribuem aproximadamente como uma normal de **desvio padrão populacional igual a 150 g**. Selecionada uma **amostra aleatório de 20 sacos** de um lote específico, obteve-se um **peso médio de 5.050 g**. Construa um **intervalo de confiança para a média populacional** assumindo um **nível de significância de 5%**."
    },
    {
      "metadata": {
        "colab_type": "text",
        "id": "PCqEvJMOwvUf"
      },
      "cell_type": "markdown",
      "source": "---"
    },
    {
      "metadata": {
        "colab_type": "text",
        "id": "HU578SXBG3GN"
      },
      "cell_type": "markdown",
      "source": "É a forma de se fazer suposições generalizadas sobre os parâmetros de uma população tendo como base as informações de uma amostra.\n\n- **Parâmetros** são os atributos numéricos de uma população, tal como a média, desvio padrão etc.\n\n- **Estimativa** é o valor obtido para determinado parâmetro a partir dos dados de uma amostra da população."
    },
    {
      "metadata": {
        "colab_type": "text",
        "id": "klWVkoUDG3GR"
      },
      "cell_type": "markdown",
      "source": "## <font color=green>4.1 Teorema do limite central</font>\n***"
    },
    {
      "metadata": {
        "colab_type": "text",
        "id": "QpgTvbISG3GU"
      },
      "cell_type": "markdown",
      "source": "> O **Teorema do Limite Central** afirma que, com o aumento do tamanho da amostra, a distribuição das médias amostrais se aproxima de uma distribuição normal com média igual à média da população e desvio padrão igual ao desvio padrão da variável original dividido pela raiz quadrada do tamanho da amostra. Este fato é assegurado para $n$ maior ou igual a 30."
    },
    {
      "metadata": {
        "colab_type": "text",
        "id": "ZIAr6is3wEMp"
      },
      "cell_type": "markdown",
      "source": "# $$\\sigma_\\bar{x} = \\frac{\\sigma}{\\sqrt{n}}$$\n\nO desvio padrão das médias amostrais é conhecido como **erro padrão da média**\n\n#### <font color=red>Documentações:\n\n- [**colMeans**](https://www.rdocumentation.org/packages/base/versions/3.6.1/topics/colSums)"
    },
    {
      "metadata": {
        "colab_type": "text",
        "id": "eFtSo6H0iz7z"
      },
      "cell_type": "markdown",
      "source": "### Entendendo o Teorema do Limite Central"
    },
    {
      "metadata": {
        "colab": {},
        "colab_type": "code",
        "id": "S3q73XpnizTi",
        "trusted": true
      },
      "cell_type": "code",
      "source": "n <- 2000\ntotal_de_amostras <- 1500",
      "execution_count": null,
      "outputs": []
    },
    {
      "metadata": {
        "colab": {
          "base_uri": "https://localhost:8080/",
          "height": 1989
        },
        "colab_type": "code",
        "id": "tXa7XKhKTyMu",
        "outputId": "2fe05b86-ecc8-48af-be13-17e8c7c235ce",
        "scrolled": true,
        "trusted": true
      },
      "cell_type": "code",
      "source": "for (i in 1:total_de_amostras){\n    if(i==1){\n        amostras <- data.frame('Amostra_1' = sample(dados$Idade, n))\n    }else{\n        amostras[paste('Amostra_', i)] <- sample(dados$Idade, n)\n    }\n}\namostras",
      "execution_count": null,
      "outputs": []
    },
    {
      "metadata": {
        "colab": {
          "base_uri": "https://localhost:8080/",
          "height": 1071
        },
        "colab_type": "code",
        "id": "v5Q-rnS_izNd",
        "outputId": "5097951e-8900-42f8-894a-539ad7d51f76",
        "scrolled": true,
        "trusted": true
      },
      "cell_type": "code",
      "source": "colMeans(amostras)",
      "execution_count": null,
      "outputs": []
    },
    {
      "metadata": {
        "colab_type": "text",
        "id": "JfgEBDx0jDzf"
      },
      "cell_type": "markdown",
      "source": "> O Teorema do Limite Central afirma que, **com o aumento do tamanho da amostra, a distribuição das médias amostrais se aproxima de uma distribuição normal** com média igual à média da população e desvio padrão igual ao desvio padrão da variável original dividido pela raiz quadrada do tamanho da amostra. Este fato é assegurado para n maior ou igual a 30."
    },
    {
      "metadata": {
        "colab": {
          "base_uri": "https://localhost:8080/",
          "height": 286
        },
        "colab_type": "code",
        "id": "giJKqa_9izKF",
        "outputId": "a90fdc6d-9970-42dd-85c3-0da9e0977ef0",
        "trusted": true
      },
      "cell_type": "code",
      "source": "hist(\n    x = colMeans(amostras),\n    main = 'Histograma das Idades Médias',\n    xlab = 'Idades',\n    ylab = 'Frequências'\n)",
      "execution_count": null,
      "outputs": []
    },
    {
      "metadata": {
        "colab_type": "text",
        "id": "_A4RKStwjkLI"
      },
      "cell_type": "markdown",
      "source": "> O Teorema do Limite Central afirma que, com o aumento do tamanho da amostra, a distribuição das médias amostrais se aproxima de uma distribuição normal **com média igual à média da população** e desvio padrão igual ao desvio padrão da variável original dividido pela raiz quadrada do tamanho da amostra. Este fato é assegurado para n maior ou igual a 30."
    },
    {
      "metadata": {
        "trusted": true
      },
      "cell_type": "code",
      "source": "mean(dados$Idade)",
      "execution_count": null,
      "outputs": []
    },
    {
      "metadata": {
        "colab": {
          "base_uri": "https://localhost:8080/",
          "height": 34
        },
        "colab_type": "code",
        "id": "vXE-UOj_izGZ",
        "outputId": "6eecc478-100a-4b55-eec3-896dbfc2079d",
        "trusted": true
      },
      "cell_type": "code",
      "source": "mean(colMeans(amostras))",
      "execution_count": null,
      "outputs": []
    },
    {
      "metadata": {
        "colab_type": "text",
        "id": "7lIWJCAKlPmA"
      },
      "cell_type": "markdown",
      "source": "> O Teorema do Limite Central afirma que, com o aumento do tamanho da amostra, a distribuição das médias amostrais se aproxima de uma distribuição normal com média igual à média da população e **desvio padrão igual ao desvio padrão da variável original dividido pela raiz quadrada do tamanho da amostra**. Este fato é assegurado para n maior ou igual a 30.\n\n# $$\\sigma_\\bar{x} = \\frac{\\sigma}{\\sqrt{n}}$$"
    },
    {
      "metadata": {
        "trusted": true
      },
      "cell_type": "code",
      "source": "sd(colMeans(amostras))",
      "execution_count": null,
      "outputs": []
    },
    {
      "metadata": {
        "trusted": true
      },
      "cell_type": "code",
      "source": "sd(dados$Idade) / sqrt(n)",
      "execution_count": null,
      "outputs": []
    },
    {
      "metadata": {
        "colab_type": "text",
        "id": "ku8CE67iG3Ge"
      },
      "cell_type": "markdown",
      "source": "## <font color=green>4.2 Níveis de confiança e significância</font>\n***"
    },
    {
      "metadata": {
        "colab_type": "text",
        "id": "mk6ZsvgyG3Gf"
      },
      "cell_type": "markdown",
      "source": "O **nível de confiança** ($1 - \\alpha$) representa a probabilidade de acerto da estimativa. De forma complementar o **nível de significância** ($\\alpha$) expressa a probabilidade de erro da estimativa.\n\nO **nível de confiança** representa o grau de confiabilidade do resultado da estimativa estar dentro de determinado intervalo. Quando fixamos em uma pesquisa um **nível de confiança** de 95%, por exemplo, estamos assumindo que existe uma probabilidade de 95% dos resultados da pesquisa representarem bem a realidade, ou seja, estarem corretos.\n\nO **nível de confiança** de uma estimativa pode ser obtido a partir da área sob a curva normal como ilustrado na figura abaixo."
    },
    {
      "metadata": {
        "colab_type": "text",
        "id": "WeGyDfvaG3Gg"
      },
      "cell_type": "markdown",
      "source": "![alt text](https://caelum-online-public.s3.amazonaws.com/1178-estatistica-parte2/01/img007.png)"
    },
    {
      "metadata": {
        "colab_type": "text",
        "id": "AN8WDZ-HG3Gi"
      },
      "cell_type": "markdown",
      "source": "## <font color=green>4.3 Erro inferencial</font>\n***"
    },
    {
      "metadata": {
        "colab_type": "text",
        "id": "tk-TwhhfG3Gi"
      },
      "cell_type": "markdown",
      "source": "O **erro inferencial** é definido pelo **desvio padrão das médias amostrais** $\\sigma_\\bar{x}$ e pelo **nível de confiança** determinado para o processo."
    },
    {
      "metadata": {
        "colab_type": "text",
        "id": "FKOQUPYHG3Gk"
      },
      "cell_type": "markdown",
      "source": "# $$e = z \\frac{\\sigma}{\\sqrt{n}}$$"
    },
    {
      "metadata": {
        "colab_type": "text",
        "id": "ELbWQW4sG3HS"
      },
      "cell_type": "markdown",
      "source": "## <font color=green>4.4 Intervalos de confiança</font>\n***"
    },
    {
      "metadata": {
        "colab_type": "text",
        "id": "-r6EMnH-G3HT"
      },
      "cell_type": "markdown",
      "source": "### Intevalo de confiança para a média da população"
    },
    {
      "metadata": {
        "colab_type": "text",
        "id": "QWgBFeRnG3HT"
      },
      "cell_type": "markdown",
      "source": "#### Com desvio padrão populacional conhecido\n\n## $$\\mu = \\bar{x} \\pm z\\frac{\\sigma}{\\sqrt{n}}$$\n\n#### Com desvio padrão populacional desconhecido\n\n## $$\\mu = \\bar{x} \\pm z\\frac{s}{\\sqrt{n}}$$"
    },
    {
      "metadata": {
        "colab_type": "text",
        "id": "R2qqLneeG3HT"
      },
      "cell_type": "markdown",
      "source": "## <font color='blue'>Exemplo: </font>"
    },
    {
      "metadata": {
        "colab_type": "text",
        "id": "AgnrFjdMG3HT"
      },
      "cell_type": "markdown",
      "source": "Suponha que os pesos dos sacos de arroz de uma indústria alimentícia se distribuem aproximadamente como uma normal de **desvio padrão populacional igual a 150 g**. Selecionada uma **amostra aleatório de 20 sacos** de um lote específico, obteve-se um **peso médio de 5.050 g**. Construa um intervalo de confiança para a **média populacional** assumindo um **nível de significância de 5%**."
    },
    {
      "metadata": {
        "colab_type": "text",
        "id": "LpGQGksTG3HU"
      },
      "cell_type": "markdown",
      "source": "### Média amostral"
    },
    {
      "metadata": {
        "colab": {
          "base_uri": "https://localhost:8080/",
          "height": 34
        },
        "colab_type": "code",
        "id": "aF2QQ0z3G3HU",
        "outputId": "31b20b10-a4f7-49fe-b113-f0fff1e2f30f",
        "trusted": true
      },
      "cell_type": "code",
      "source": "media_amostral <- \nmedia_amostral",
      "execution_count": null,
      "outputs": []
    },
    {
      "metadata": {
        "colab_type": "text",
        "id": "Jly1bVP9G3HY"
      },
      "cell_type": "markdown",
      "source": "### Nível de significância ($\\alpha$)"
    },
    {
      "metadata": {
        "colab": {
          "base_uri": "https://localhost:8080/",
          "height": 34
        },
        "colab_type": "code",
        "id": "BzIgN3C7G3HY",
        "outputId": "53b76a9a-fce9-41dc-829e-4c7b318b7d75",
        "trusted": true
      },
      "cell_type": "code",
      "source": "significancia <- \nsignificancia",
      "execution_count": null,
      "outputs": []
    },
    {
      "metadata": {
        "colab_type": "text",
        "id": "SrZAbQRKG3Ha"
      },
      "cell_type": "markdown",
      "source": "### Nível de confiança ($1 - \\alpha$)"
    },
    {
      "metadata": {
        "colab": {
          "base_uri": "https://localhost:8080/",
          "height": 34
        },
        "colab_type": "code",
        "id": "1JeWXwA6G3Ha",
        "outputId": "8ac9e63f-f2e5-46a5-b693-e221203ada3f",
        "trusted": true
      },
      "cell_type": "code",
      "source": "confianca <- \nconfianca",
      "execution_count": null,
      "outputs": []
    },
    {
      "metadata": {
        "colab_type": "text",
        "id": "mZoUFr1nG3Hf"
      },
      "cell_type": "markdown",
      "source": "### Obtendo $z$"
    },
    {
      "metadata": {
        "trusted": true
      },
      "cell_type": "code",
      "source": "",
      "execution_count": null,
      "outputs": []
    },
    {
      "metadata": {
        "colab_type": "text",
        "id": "rMRmnaNPG3Go"
      },
      "cell_type": "markdown",
      "source": "### Obtendo $z$"
    },
    {
      "metadata": {
        "colab_type": "text",
        "id": "T-3mV1qlUj1t"
      },
      "cell_type": "markdown",
      "source": "![alt text](https://caelum-online-public.s3.amazonaws.com/1178-estatistica-parte2/01/img008.png)"
    },
    {
      "metadata": {
        "colab": {
          "base_uri": "https://localhost:8080/",
          "height": 34
        },
        "colab_type": "code",
        "id": "nT5ZTwjOG3Go",
        "outputId": "9c20d5b5-fb36-40f1-b901-3969a2fa8ea0",
        "trusted": true
      },
      "cell_type": "code",
      "source": "",
      "execution_count": null,
      "outputs": []
    },
    {
      "metadata": {
        "colab": {
          "base_uri": "https://localhost:8080/",
          "height": 34
        },
        "colab_type": "code",
        "id": "vMjck-3ZU_sz",
        "outputId": "56a3f3ba-e5d4-40c7-dc4c-b31ed5d07262",
        "trusted": true
      },
      "cell_type": "code",
      "source": "",
      "execution_count": null,
      "outputs": []
    },
    {
      "metadata": {
        "colab": {
          "base_uri": "https://localhost:8080/",
          "height": 34
        },
        "colab_type": "code",
        "id": "L4CMGZ3oVHLX",
        "outputId": "60470140-1dfa-4d5c-9627-097378b2fc8e",
        "trusted": true
      },
      "cell_type": "code",
      "source": "",
      "execution_count": null,
      "outputs": []
    },
    {
      "metadata": {
        "trusted": true
      },
      "cell_type": "code",
      "source": "",
      "execution_count": null,
      "outputs": []
    },
    {
      "metadata": {
        "colab_type": "text",
        "id": "ggXXP8QqTyNA"
      },
      "cell_type": "markdown",
      "source": "### Valores de $z$ para os níveis de confiança mais utilizados\n\n|Nível de<br>confiança|Valor da área sob<br>a curva normal| $z$ |\n|:----------------:|:---------------------------------:|:---:|\n|90%               |0,95                               |1,645|\n|95%               |0,975                              |1,96 |\n|99%               |0,995                              |2,575|"
    },
    {
      "metadata": {
        "colab_type": "text",
        "id": "MfE1ru0AG3Hg"
      },
      "cell_type": "markdown",
      "source": "### Obtendo $\\sigma_\\bar{x}$"
    },
    {
      "metadata": {
        "colab": {
          "base_uri": "https://localhost:8080/",
          "height": 34
        },
        "colab_type": "code",
        "id": "LyQ6UUYtG3Hh",
        "outputId": "4c066583-4272-4e26-daf5-575ea4815371",
        "trusted": true
      },
      "cell_type": "code",
      "source": "",
      "execution_count": null,
      "outputs": []
    },
    {
      "metadata": {
        "colab": {
          "base_uri": "https://localhost:8080/",
          "height": 34
        },
        "colab_type": "code",
        "id": "ebvikT95G3Hi",
        "outputId": "bfbc2f5c-e706-46a6-aa6c-e94632aed4fc",
        "trusted": true
      },
      "cell_type": "code",
      "source": "",
      "execution_count": null,
      "outputs": []
    },
    {
      "metadata": {
        "colab": {
          "base_uri": "https://localhost:8080/",
          "height": 34
        },
        "colab_type": "code",
        "id": "TxM3yTpjG3Hk",
        "outputId": "a38a0bfc-2c3b-48f4-cea7-ee5f5147a251",
        "trusted": true
      },
      "cell_type": "code",
      "source": "",
      "execution_count": null,
      "outputs": []
    },
    {
      "metadata": {
        "colab": {
          "base_uri": "https://localhost:8080/",
          "height": 34
        },
        "colab_type": "code",
        "id": "HNAcOpl0G3Hl",
        "outputId": "3b37c2d5-b02d-40af-897d-6c588e2696aa",
        "trusted": true
      },
      "cell_type": "code",
      "source": "",
      "execution_count": null,
      "outputs": []
    },
    {
      "metadata": {
        "colab_type": "text",
        "id": "NHbXlLk-G3Hn"
      },
      "cell_type": "markdown",
      "source": "### Obtendo $e$"
    },
    {
      "metadata": {
        "colab": {
          "base_uri": "https://localhost:8080/",
          "height": 34
        },
        "colab_type": "code",
        "id": "gAfakih5G3Ho",
        "outputId": "48958fa3-2cf8-4bc5-dfc3-0fb925798b38",
        "trusted": true
      },
      "cell_type": "code",
      "source": "",
      "execution_count": null,
      "outputs": []
    },
    {
      "metadata": {
        "colab_type": "text",
        "id": "sx1QTfNrG3Hq"
      },
      "cell_type": "markdown",
      "source": "### Solução 1 - Calculando o intervalo de confiança para a média"
    },
    {
      "metadata": {
        "colab": {
          "base_uri": "https://localhost:8080/",
          "height": 34
        },
        "colab_type": "code",
        "id": "NlJCcPZnG3Hq",
        "outputId": "09cee323-103e-4832-c23f-97daf4b9929f",
        "trusted": true
      },
      "cell_type": "code",
      "source": "",
      "execution_count": null,
      "outputs": []
    },
    {
      "metadata": {
        "colab_type": "text",
        "id": "DkFJL7fcG3Ht"
      },
      "cell_type": "markdown",
      "source": "### Solução 2 - Calculando o intervalo de confiança para a média\n\n#### <font color=red>Documentações:\n\n- [**MeanCI**](https://www.rdocumentation.org/packages/DescTools/versions/0.99.30/topics/MeanCI)"
    },
    {
      "metadata": {},
      "cell_type": "markdown",
      "source": "#### Instalação do pacote DescTools\n\nhttps://cran.r-project.org"
    },
    {
      "metadata": {
        "scrolled": true,
        "trusted": true
      },
      "cell_type": "code",
      "source": "# install.packages('DescTools')\n\n# OU\n\n# packageurl <- \"https://cran.r-project.org/src/contrib/Archive/DescTools/DescTools_0.99.30.tar.gz\"\n# install.packages(packageurl, repos=NULL, type=\"source\")",
      "execution_count": null,
      "outputs": []
    },
    {
      "metadata": {
        "trusted": true
      },
      "cell_type": "code",
      "source": "",
      "execution_count": null,
      "outputs": []
    },
    {
      "metadata": {
        "trusted": true
      },
      "cell_type": "code",
      "source": "",
      "execution_count": null,
      "outputs": []
    },
    {
      "metadata": {
        "colab_type": "text",
        "id": "aF9jAC6yG3Gl"
      },
      "cell_type": "markdown",
      "source": "# <font color=green>5 CÁLCULO DO TAMANHO DA AMOSTRA</font>\n***"
    },
    {
      "metadata": {
        "colab_type": "text",
        "id": "BwiygaNqnjrr"
      },
      "cell_type": "markdown",
      "source": "## <font color='red'>Problema </font>"
    },
    {
      "metadata": {
        "colab_type": "text",
        "id": "a7RjjVVUnlI3"
      },
      "cell_type": "markdown",
      "source": "Estamos estudando o rendimento mensal dos chefes de domicílios com renda até R$\\$$ 5.000,00 no Brasil. Nosso supervisor determinou que o **erro máximo em relação a média seja de R$\\$$ 10,00**. Sabemos que o **desvio padrão populacional** deste grupo de trabalhadores é de **R$\\$$ 1.082,79**. Para um **nível de confiança de 95%**, qual deve ser o tamanho da amostra de nosso estudo?"
    },
    {
      "metadata": {
        "colab_type": "text",
        "id": "za2sGJt6G3Gm"
      },
      "cell_type": "markdown",
      "source": "## <font color=green>5.1 Variáveis quantitativas e população infinita</font>\n***"
    },
    {
      "metadata": {
        "colab_type": "text",
        "id": "3wqMjJWR5sVq"
      },
      "cell_type": "markdown",
      "source": "# $$e = z \\frac{\\sigma}{\\sqrt{n}}$$"
    },
    {
      "metadata": {
        "colab_type": "text",
        "id": "X1AxpKtIG3Gn"
      },
      "cell_type": "markdown",
      "source": "#### Com desvio padrão conhecido\n\n## $$n = \\left(z\\frac{\\sigma}{e}\\right)^2$$\n\n#### Com desvio padrão desconhecido\n\n## $$n = \\left(z\\frac{s}{e}\\right)^2$$\n\nOnde:\n\n$z$ = variável normal padronizada\n\n$\\sigma$ = desvio padrão populacional\n\n$s$ = desvio padrão amostral\n\n$e$ = erro inferencial"
    },
    {
      "metadata": {
        "colab_type": "text",
        "id": "T0fysCyDG3Gn"
      },
      "cell_type": "markdown",
      "source": "### <font color='red'>Observações</font>\n\n1. O desvio padrão ($\\sigma$ ou $s$) e o erro ($e$) devem estar na mesma unidade de medida.\n\n2. Quando o erro ($e$) for representado em termos percentuais, deve ser interpretado como um percentual relacionado à média."
    },
    {
      "metadata": {
        "colab_type": "text",
        "id": "WHYBTaupG3Gn"
      },
      "cell_type": "markdown",
      "source": "## <font color='blue'>Exemplo: Rendimento médio</font>"
    },
    {
      "metadata": {
        "colab_type": "text",
        "id": "dcdzo7EgG3Go"
      },
      "cell_type": "markdown",
      "source": "Estamos estudando o rendimento mensal dos chefes de domicílios no Brasil. Nosso supervisor determinou que o **erro máximo em relação a média seja de R$\\$$ 100,00**. Sabemos que o **desvio padrão populacional** deste grupo de trabalhadores é de **R$\\$$ 3.323,39**. Para um **nível de confiança de 95%**, qual deve ser o tamanho da amostra de nosso estudo?"
    },
    {
      "metadata": {
        "colab": {
          "base_uri": "https://localhost:8080/",
          "height": 34
        },
        "colab_type": "code",
        "id": "XtJ5I_kaKDN3",
        "outputId": "a519e330-ddf0-492c-f42d-5cef36fed4c9",
        "trusted": true
      },
      "cell_type": "code",
      "source": "",
      "execution_count": null,
      "outputs": []
    },
    {
      "metadata": {
        "colab": {
          "base_uri": "https://localhost:8080/",
          "height": 34
        },
        "colab_type": "code",
        "id": "-4TLCgNLKC95",
        "outputId": "19f3b7af-ff33-4db4-c675-c62b5088137e",
        "trusted": true
      },
      "cell_type": "code",
      "source": "",
      "execution_count": null,
      "outputs": []
    },
    {
      "metadata": {
        "colab": {
          "base_uri": "https://localhost:8080/",
          "height": 34
        },
        "colab_type": "code",
        "id": "7XDT12I4ViYN",
        "outputId": "a0af8729-80a8-4b33-b307-96d144c83029",
        "trusted": true
      },
      "cell_type": "code",
      "source": "",
      "execution_count": null,
      "outputs": []
    },
    {
      "metadata": {
        "colab_type": "text",
        "id": "6uCkW4KlG3Gr"
      },
      "cell_type": "markdown",
      "source": "### Obtendo $\\sigma$"
    },
    {
      "metadata": {
        "colab": {
          "base_uri": "https://localhost:8080/",
          "height": 34
        },
        "colab_type": "code",
        "id": "1RmtZfj-G3Gr",
        "outputId": "d3e77bf1-b933-4ade-846f-95e25f4e1d6e",
        "trusted": true
      },
      "cell_type": "code",
      "source": "",
      "execution_count": null,
      "outputs": []
    },
    {
      "metadata": {
        "colab_type": "text",
        "id": "Cl39PIZ2G3Gt"
      },
      "cell_type": "markdown",
      "source": "### Obtendo $e$"
    },
    {
      "metadata": {
        "colab": {
          "base_uri": "https://localhost:8080/",
          "height": 34
        },
        "colab_type": "code",
        "id": "NTRMt2gWG3Gt",
        "outputId": "f7d7ae3f-7e33-41cc-a11a-5b09de70cc2c",
        "trusted": true
      },
      "cell_type": "code",
      "source": "",
      "execution_count": null,
      "outputs": []
    },
    {
      "metadata": {
        "colab_type": "text",
        "id": "OlAX3Gj6G3Gv"
      },
      "cell_type": "markdown",
      "source": "### Obtendo $n$"
    },
    {
      "metadata": {
        "colab": {
          "base_uri": "https://localhost:8080/",
          "height": 34
        },
        "colab_type": "code",
        "id": "0MjluwHPG3Gv",
        "outputId": "8f74510a-4f4b-4129-d3c3-d31be24567fa",
        "scrolled": true,
        "trusted": true
      },
      "cell_type": "code",
      "source": "",
      "execution_count": null,
      "outputs": []
    },
    {
      "metadata": {
        "colab_type": "text",
        "id": "MjP0xsqyTyNO"
      },
      "cell_type": "markdown",
      "source": "---"
    },
    {
      "metadata": {
        "colab_type": "text",
        "id": "dx2vyLC-TyNP"
      },
      "cell_type": "markdown",
      "source": "## <font color='red'>Problema</font>"
    },
    {
      "metadata": {
        "colab_type": "text",
        "id": "uzK2fAOFTyNP"
      },
      "cell_type": "markdown",
      "source": "Em um lote de **10.000 latas** de refrigerante foi realizada uma amostra aleatória simples de **100 latas** e foi obtido o **desvio padrão amostral do conteúdo das latas igual a 12 ml**. O fabricante estipula um **erro máximo sobre a média populacional de apenas 5 ml**. Para garantir um **nível de confiança de 95%** qual o tamanho de amostra deve ser selecionado para este estudo?"
    },
    {
      "metadata": {
        "colab_type": "text",
        "id": "FlAz5kycTyNQ"
      },
      "cell_type": "markdown",
      "source": "## <font color=green>5.2 Variáveis quantitativas e população finita</font>\n***"
    },
    {
      "metadata": {
        "colab_type": "text",
        "id": "UOe02McSTyNR"
      },
      "cell_type": "markdown",
      "source": "#### Com desvio padrão conhecido\n\n## $$n = \\frac{z^2 \\sigma^2 N}{z^2 \\sigma^2 + e^2(N-1)}$$\n\n#### Com desvio padrão desconhecido\n\n## $$n = \\frac{z^2 s^2 N}{z^2 s^2 + e^2(N-1)}$$\n\nOnde:\n\n$N$ = tamanho da população\n\n$z$ = variável normal padronizada\n\n$\\sigma$ = desvio padrão populacional\n\n$s$ = desvio padrão amostral\n\n$e$ = erro inferencial"
    },
    {
      "metadata": {
        "colab_type": "text",
        "id": "cUELtYTKTyNS"
      },
      "cell_type": "markdown",
      "source": "## <font color='blue'>Exemplo: Indústria de refrigerantes</font>"
    },
    {
      "metadata": {
        "colab_type": "text",
        "id": "upv1mM7fTyNS"
      },
      "cell_type": "markdown",
      "source": "Em um lote de **10.000 latas** de refrigerante foi realizada uma amostra aleatória simples de **100 latas** e foi obtido o **desvio padrão amostral do conteúdo das latas igual a 12 ml**. O fabricante estipula um **erro máximo sobre a média populacional de apenas 5 ml**. Para garantir um **nível de confiança de 95%** qual o tamanho de amostra deve ser selecionado para este estudo?"
    },
    {
      "metadata": {
        "colab_type": "text",
        "id": "_y3-3VIBTyNS"
      },
      "cell_type": "markdown",
      "source": "### Obtendo $N$"
    },
    {
      "metadata": {
        "colab": {
          "base_uri": "https://localhost:8080/",
          "height": 34
        },
        "colab_type": "code",
        "id": "gXWn9zTETyNS",
        "outputId": "4daa26ff-4a96-47fb-9f0e-53a4390d701e",
        "trusted": true
      },
      "cell_type": "code",
      "source": "",
      "execution_count": null,
      "outputs": []
    },
    {
      "metadata": {
        "colab_type": "text",
        "id": "xCgZ1JSjTyNT"
      },
      "cell_type": "markdown",
      "source": "### Obtendo $z$"
    },
    {
      "metadata": {
        "colab": {
          "base_uri": "https://localhost:8080/",
          "height": 34
        },
        "colab_type": "code",
        "id": "ZUs9aYJRTyNT",
        "outputId": "02560c9f-57ee-41c7-cdf4-5fd382365a74",
        "trusted": true
      },
      "cell_type": "code",
      "source": "",
      "execution_count": null,
      "outputs": []
    },
    {
      "metadata": {
        "colab_type": "text",
        "id": "KCnigJd8TyNU"
      },
      "cell_type": "markdown",
      "source": "### Obtendo $s$"
    },
    {
      "metadata": {
        "colab": {
          "base_uri": "https://localhost:8080/",
          "height": 34
        },
        "colab_type": "code",
        "id": "fKqFI_TZTyNU",
        "outputId": "68a9ee2f-428a-4d18-9148-f33704968fb7",
        "trusted": true
      },
      "cell_type": "code",
      "source": "",
      "execution_count": null,
      "outputs": []
    },
    {
      "metadata": {
        "colab_type": "text",
        "id": "K9gDEIUdTyNX"
      },
      "cell_type": "markdown",
      "source": "### Obtendo $e$"
    },
    {
      "metadata": {
        "colab": {
          "base_uri": "https://localhost:8080/",
          "height": 34
        },
        "colab_type": "code",
        "id": "hyhJ3MQKTyNX",
        "outputId": "2849bd05-6c70-4d97-980d-67e140f27850",
        "trusted": true
      },
      "cell_type": "code",
      "source": "",
      "execution_count": null,
      "outputs": []
    },
    {
      "metadata": {
        "colab_type": "text",
        "id": "Dsm3bg9gTyNX"
      },
      "cell_type": "markdown",
      "source": "### Obtendo $n$\n\n## $$n = \\frac{z^2 s^2 N}{z^2 s^2 + e^2(N-1)}$$"
    },
    {
      "metadata": {
        "colab": {
          "base_uri": "https://localhost:8080/",
          "height": 34
        },
        "colab_type": "code",
        "id": "0XxWfaPdTyNY",
        "outputId": "8494180f-9149-419f-dee9-f02ec3e81b93",
        "scrolled": true,
        "trusted": true
      },
      "cell_type": "code",
      "source": "",
      "execution_count": null,
      "outputs": []
    },
    {
      "metadata": {
        "colab_type": "text",
        "id": "XNH7CMglG3Hv"
      },
      "cell_type": "markdown",
      "source": "# <font color=green>6 FIXANDO O CONTEÚDO</font>\n***"
    },
    {
      "metadata": {
        "colab_type": "text",
        "id": "iRYqVAxuG3Hv"
      },
      "cell_type": "markdown",
      "source": "## <font color='blue'>Exemplo: Rendimento médio</font>"
    },
    {
      "metadata": {
        "colab_type": "text",
        "id": "ggloHI5sG3Hw"
      },
      "cell_type": "markdown",
      "source": "Estamos estudando o **rendimento mensal dos chefes de domicílios com renda até R$\\$$ 5.000,00 no Brasil**. Nosso supervisor determinou que o **erro máximo em relação a média seja de R$\\$$ 10,00**. Sabemos que o **desvio padrão populacional** deste grupo de trabalhadores é de **R$\\$$ 1.082,79** e que a **média populacional** é de **R$\\$$ 1.426,54**. Para um **nível de confiança de 95%**, qual deve ser o tamanho da amostra de nosso estudo? Qual o intervalo de confiança para a média considerando o tamanho de amostra obtido?"
    },
    {
      "metadata": {
        "colab_type": "text",
        "id": "JZDvLD-NG3Hw"
      },
      "cell_type": "markdown",
      "source": "### Construindo o dataset conforme especificado pelo problema"
    },
    {
      "metadata": {
        "colab": {},
        "colab_type": "code",
        "id": "qlnYQeaKG3Hw",
        "trusted": true
      },
      "cell_type": "code",
      "source": "",
      "execution_count": null,
      "outputs": []
    },
    {
      "metadata": {
        "trusted": true
      },
      "cell_type": "code",
      "source": "",
      "execution_count": null,
      "outputs": []
    },
    {
      "metadata": {
        "colab": {
          "base_uri": "https://localhost:8080/",
          "height": 34
        },
        "colab_type": "code",
        "id": "VKuxbygIG3Hy",
        "outputId": "98078826-90d1-488e-b11d-cf4e6f5bdc3c",
        "trusted": true
      },
      "cell_type": "code",
      "source": "",
      "execution_count": null,
      "outputs": []
    },
    {
      "metadata": {
        "colab_type": "text",
        "id": "F33TdkXdG3H2"
      },
      "cell_type": "markdown",
      "source": "### Calculando o tamanho da amostra"
    },
    {
      "metadata": {
        "colab": {
          "base_uri": "https://localhost:8080/",
          "height": 34
        },
        "colab_type": "code",
        "id": "sWIvnmygG3H2",
        "outputId": "42b7f8db-3a43-4e5f-f61a-9000e4e5e94b",
        "trusted": true
      },
      "cell_type": "code",
      "source": "",
      "execution_count": null,
      "outputs": []
    },
    {
      "metadata": {
        "colab_type": "text",
        "id": "xRN_gmmLG3H6"
      },
      "cell_type": "markdown",
      "source": "### Calculando o intervalo de confiança para a média"
    },
    {
      "metadata": {
        "trusted": true
      },
      "cell_type": "code",
      "source": "",
      "execution_count": null,
      "outputs": []
    },
    {
      "metadata": {
        "trusted": true
      },
      "cell_type": "code",
      "source": "",
      "execution_count": null,
      "outputs": []
    },
    {
      "metadata": {
        "trusted": true
      },
      "cell_type": "code",
      "source": "",
      "execution_count": null,
      "outputs": []
    },
    {
      "metadata": {
        "trusted": true
      },
      "cell_type": "code",
      "source": "",
      "execution_count": null,
      "outputs": []
    },
    {
      "metadata": {
        "colab_type": "text",
        "id": "xWAG8q8oG3H8"
      },
      "cell_type": "markdown",
      "source": "### Realizando uma prova gráfica"
    },
    {
      "metadata": {
        "trusted": true
      },
      "cell_type": "code",
      "source": "tamanho_simulacao = 1000\nmedias <- c()\n\nfor(i in 1:tamanho_simulacao){\n    medias <- c(medias, mean(sample_n(renda_5000, n)$Renda))\n}\nmedias <- data.frame(medias)\n\nggplot(data = medias, aes(x = c(1:tamanho_simulacao), y = medias)) + \n    geom_point(size = 1.5, stroke = 0) + \n    geom_hline(yintercept = media, color = 'green') + \n    geom_hline(yintercept = limite_inferior, color = 'red') + \n    geom_hline(yintercept = limite_superior, color = 'red')",
      "execution_count": null,
      "outputs": []
    },
    {
      "metadata": {
        "colab": {},
        "colab_type": "code",
        "id": "L5BFsSI8G3IB",
        "trusted": true
      },
      "cell_type": "code",
      "source": "",
      "execution_count": null,
      "outputs": []
    }
  ],
  "metadata": {
    "colab": {
      "collapsed_sections": [],
      "name": "Curso_de_Estatística_Parte_2.ipynb",
      "provenance": [],
      "toc_visible": true,
      "version": "0.3.2"
    },
    "kernelspec": {
      "name": "r",
      "display_name": "R",
      "language": "R"
    },
    "language_info": {
      "mimetype": "text/x-r-source",
      "name": "R",
      "pygments_lexer": "r",
      "version": "3.5.3",
      "file_extension": ".r",
      "codemirror_mode": "r"
    }
  },
  "nbformat": 4,
  "nbformat_minor": 1
}